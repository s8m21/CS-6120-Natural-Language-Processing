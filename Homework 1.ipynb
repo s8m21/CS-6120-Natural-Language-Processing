{
  "cells": [
    {
      "cell_type": "markdown",
      "id": "bc97d6da",
      "metadata": {
        "id": "bc97d6da"
      },
      "source": [
        "## CS 6120: Natural Language Processing - Prof. Ahmad Uzair\n",
        "\n",
        "### Assignment 1: Naive Bayes\n",
        "### Total Points: 100 points\n",
        "\n",
        "You will be dealing with movie review data that includes both positive and negative reviews in this assignment. You will use Sentiment Analysis to assess if a given review is positive or negative using the provided dataset.\n",
        "\n",
        "Therefore, we will make use of Naive Bayes algorithm to perform sentiment analysis on the movie review dataset.\n",
        "\n",
        "## Importing the Libraries"
      ]
    },
    {
      "cell_type": "code",
      "execution_count": 1,
      "id": "a03450ac",
      "metadata": {
        "id": "a03450ac"
      },
      "outputs": [],
      "source": [
        "import numpy as np\n",
        "import math\n",
        "import pandas as pd\n",
        "import string\n",
        "import re\n",
        "import nltk\n",
        "from nltk.corpus import stopwords\n",
        "from nltk.stem import PorterStemmer\n",
        "from nltk.stem import WordNetLemmatizer\n",
        "from nltk.tokenize import word_tokenize\n",
        "import warnings\n",
        "import seaborn as sns\n",
        "import matplotlib.pyplot as plt\n",
        "warnings.filterwarnings(\"ignore\")"
      ]
    },
    {
      "cell_type": "code",
      "source": [
        "nltk.download('stopwords')\n",
        "nltk.download('punkt')\n",
        "nltk.download('wordnet')\n",
        "nltk.download('omw-1.4')\n",
        "stop_words = set(stopwords.words(\"english\"))\n",
        "lemmatizer = WordNetLemmatizer()"
      ],
      "metadata": {
        "colab": {
          "base_uri": "https://localhost:8080/"
        },
        "id": "j_LKPH2GKx4j",
        "outputId": "96778d58-3829-4be0-e4e3-1060b715b706"
      },
      "id": "j_LKPH2GKx4j",
      "execution_count": 2,
      "outputs": [
        {
          "output_type": "stream",
          "name": "stderr",
          "text": [
            "[nltk_data] Downloading package stopwords to /root/nltk_data...\n",
            "[nltk_data]   Unzipping corpora/stopwords.zip.\n",
            "[nltk_data] Downloading package punkt to /root/nltk_data...\n",
            "[nltk_data]   Unzipping tokenizers/punkt.zip.\n",
            "[nltk_data] Downloading package wordnet to /root/nltk_data...\n",
            "[nltk_data] Downloading package omw-1.4 to /root/nltk_data...\n"
          ]
        }
      ]
    },
    {
      "cell_type": "markdown",
      "id": "fc584cc2",
      "metadata": {
        "id": "fc584cc2"
      },
      "source": [
        "## Reading the data\n",
        "\n",
        "When reading the data, ensure that the '.csv' file is in the same location where your jupyter notebook is used. This way the files are organized and easy to read using the pandas library. "
      ]
    },
    {
      "cell_type": "code",
      "execution_count": 4,
      "id": "3c9ffbf5",
      "metadata": {
        "id": "3c9ffbf5"
      },
      "outputs": [],
      "source": [
        "## Reading the data and removing columns that are not important. \n",
        "df = pd.read_csv(\"movie_reviews-1.csv\", sep = ',', encoding = 'latin-1', usecols = lambda col: col not in [\"Unnamed: 2\", \"Unnamed: 3\", \"Unnamed: 4\"])"
      ]
    },
    {
      "cell_type": "code",
      "execution_count": 5,
      "id": "f7fa8ac0",
      "metadata": {
        "colab": {
          "base_uri": "https://localhost:8080/",
          "height": 206
        },
        "id": "f7fa8ac0",
        "outputId": "62c65699-e3f3-4c2b-c51a-8ba9f53571aa"
      },
      "outputs": [
        {
          "output_type": "execute_result",
          "data": {
            "text/plain": [
              "                                              review sentiment\n",
              "0  One of the other reviewers has mentioned that ...  positive\n",
              "1  A wonderful little production. <br /><br />The...  positive\n",
              "2  I thought this was a wonderful way to spend ti...  positive\n",
              "3  Petter Mattei's \"Love in the Time of Money\" is...  positive\n",
              "4  Probably my all-time favorite movie, a story o...  positive"
            ],
            "text/html": [
              "\n",
              "  <div id=\"df-b022ab37-73f1-42b6-b6eb-46325496d7db\">\n",
              "    <div class=\"colab-df-container\">\n",
              "      <div>\n",
              "<style scoped>\n",
              "    .dataframe tbody tr th:only-of-type {\n",
              "        vertical-align: middle;\n",
              "    }\n",
              "\n",
              "    .dataframe tbody tr th {\n",
              "        vertical-align: top;\n",
              "    }\n",
              "\n",
              "    .dataframe thead th {\n",
              "        text-align: right;\n",
              "    }\n",
              "</style>\n",
              "<table border=\"1\" class=\"dataframe\">\n",
              "  <thead>\n",
              "    <tr style=\"text-align: right;\">\n",
              "      <th></th>\n",
              "      <th>review</th>\n",
              "      <th>sentiment</th>\n",
              "    </tr>\n",
              "  </thead>\n",
              "  <tbody>\n",
              "    <tr>\n",
              "      <th>0</th>\n",
              "      <td>One of the other reviewers has mentioned that ...</td>\n",
              "      <td>positive</td>\n",
              "    </tr>\n",
              "    <tr>\n",
              "      <th>1</th>\n",
              "      <td>A wonderful little production. &lt;br /&gt;&lt;br /&gt;The...</td>\n",
              "      <td>positive</td>\n",
              "    </tr>\n",
              "    <tr>\n",
              "      <th>2</th>\n",
              "      <td>I thought this was a wonderful way to spend ti...</td>\n",
              "      <td>positive</td>\n",
              "    </tr>\n",
              "    <tr>\n",
              "      <th>3</th>\n",
              "      <td>Petter Mattei's \"Love in the Time of Money\" is...</td>\n",
              "      <td>positive</td>\n",
              "    </tr>\n",
              "    <tr>\n",
              "      <th>4</th>\n",
              "      <td>Probably my all-time favorite movie, a story o...</td>\n",
              "      <td>positive</td>\n",
              "    </tr>\n",
              "  </tbody>\n",
              "</table>\n",
              "</div>\n",
              "      <button class=\"colab-df-convert\" onclick=\"convertToInteractive('df-b022ab37-73f1-42b6-b6eb-46325496d7db')\"\n",
              "              title=\"Convert this dataframe to an interactive table.\"\n",
              "              style=\"display:none;\">\n",
              "        \n",
              "  <svg xmlns=\"http://www.w3.org/2000/svg\" height=\"24px\"viewBox=\"0 0 24 24\"\n",
              "       width=\"24px\">\n",
              "    <path d=\"M0 0h24v24H0V0z\" fill=\"none\"/>\n",
              "    <path d=\"M18.56 5.44l.94 2.06.94-2.06 2.06-.94-2.06-.94-.94-2.06-.94 2.06-2.06.94zm-11 1L8.5 8.5l.94-2.06 2.06-.94-2.06-.94L8.5 2.5l-.94 2.06-2.06.94zm10 10l.94 2.06.94-2.06 2.06-.94-2.06-.94-.94-2.06-.94 2.06-2.06.94z\"/><path d=\"M17.41 7.96l-1.37-1.37c-.4-.4-.92-.59-1.43-.59-.52 0-1.04.2-1.43.59L10.3 9.45l-7.72 7.72c-.78.78-.78 2.05 0 2.83L4 21.41c.39.39.9.59 1.41.59.51 0 1.02-.2 1.41-.59l7.78-7.78 2.81-2.81c.8-.78.8-2.07 0-2.86zM5.41 20L4 18.59l7.72-7.72 1.47 1.35L5.41 20z\"/>\n",
              "  </svg>\n",
              "      </button>\n",
              "      \n",
              "  <style>\n",
              "    .colab-df-container {\n",
              "      display:flex;\n",
              "      flex-wrap:wrap;\n",
              "      gap: 12px;\n",
              "    }\n",
              "\n",
              "    .colab-df-convert {\n",
              "      background-color: #E8F0FE;\n",
              "      border: none;\n",
              "      border-radius: 50%;\n",
              "      cursor: pointer;\n",
              "      display: none;\n",
              "      fill: #1967D2;\n",
              "      height: 32px;\n",
              "      padding: 0 0 0 0;\n",
              "      width: 32px;\n",
              "    }\n",
              "\n",
              "    .colab-df-convert:hover {\n",
              "      background-color: #E2EBFA;\n",
              "      box-shadow: 0px 1px 2px rgba(60, 64, 67, 0.3), 0px 1px 3px 1px rgba(60, 64, 67, 0.15);\n",
              "      fill: #174EA6;\n",
              "    }\n",
              "\n",
              "    [theme=dark] .colab-df-convert {\n",
              "      background-color: #3B4455;\n",
              "      fill: #D2E3FC;\n",
              "    }\n",
              "\n",
              "    [theme=dark] .colab-df-convert:hover {\n",
              "      background-color: #434B5C;\n",
              "      box-shadow: 0px 1px 3px 1px rgba(0, 0, 0, 0.15);\n",
              "      filter: drop-shadow(0px 1px 2px rgba(0, 0, 0, 0.3));\n",
              "      fill: #FFFFFF;\n",
              "    }\n",
              "  </style>\n",
              "\n",
              "      <script>\n",
              "        const buttonEl =\n",
              "          document.querySelector('#df-b022ab37-73f1-42b6-b6eb-46325496d7db button.colab-df-convert');\n",
              "        buttonEl.style.display =\n",
              "          google.colab.kernel.accessAllowed ? 'block' : 'none';\n",
              "\n",
              "        async function convertToInteractive(key) {\n",
              "          const element = document.querySelector('#df-b022ab37-73f1-42b6-b6eb-46325496d7db');\n",
              "          const dataTable =\n",
              "            await google.colab.kernel.invokeFunction('convertToInteractive',\n",
              "                                                     [key], {});\n",
              "          if (!dataTable) return;\n",
              "\n",
              "          const docLinkHtml = 'Like what you see? Visit the ' +\n",
              "            '<a target=\"_blank\" href=https://colab.research.google.com/notebooks/data_table.ipynb>data table notebook</a>'\n",
              "            + ' to learn more about interactive tables.';\n",
              "          element.innerHTML = '';\n",
              "          dataTable['output_type'] = 'display_data';\n",
              "          await google.colab.output.renderOutput(dataTable, element);\n",
              "          const docLink = document.createElement('div');\n",
              "          docLink.innerHTML = docLinkHtml;\n",
              "          element.appendChild(docLink);\n",
              "        }\n",
              "      </script>\n",
              "    </div>\n",
              "  </div>\n",
              "  "
            ]
          },
          "metadata": {},
          "execution_count": 5
        }
      ],
      "source": [
        "df.head()"
      ]
    },
    {
      "cell_type": "markdown",
      "id": "1749da04",
      "metadata": {
        "id": "1749da04"
      },
      "source": [
        "## Count plot of the output categories: positive or negative\n",
        "\n",
        "Feel free to take a look at the output and whether the classes are balanced or imbalanced. "
      ]
    },
    {
      "cell_type": "code",
      "execution_count": 6,
      "id": "c152e8a4",
      "metadata": {
        "colab": {
          "base_uri": "https://localhost:8080/",
          "height": 623
        },
        "id": "c152e8a4",
        "outputId": "beba7e0d-b24e-4b3c-9cb8-addb21fb6480"
      },
      "outputs": [
        {
          "output_type": "display_data",
          "data": {
            "text/plain": [
              "<Figure size 1080x720 with 1 Axes>"
            ],
            "image/png": "[encoded data removed]"
          },
          "metadata": {
            "needs_background": "light"
          }
        }
      ],
      "source": [
        "plt.figure(figsize = (15, 10))\n",
        "sns.countplot(df['sentiment'])\n",
        "plt.title(\"Positive Vs. Negative reviews count\", fontsize = 15)\n",
        "plt.show()"
      ]
    },
    {
      "cell_type": "markdown",
      "id": "9b8549f2",
      "metadata": {
        "id": "9b8549f2"
      },
      "source": [
        "## Upsampling the minority class: (5 points)\n",
        "\n",
        "It is known that Naive bayes is not robust to class imbalance. It could be seen above that the data is little imbalanced. Therefore, class balancing can be done before giving it to the Naive Bayes model for prediction. \n",
        "\n",
        "Feel free to use 'resample' library from sklearn. "
      ]
    },
    {
      "cell_type": "code",
      "source": [
        "## hint: use resample from sklearn.utils\n",
        "from sklearn.utils import resample\n",
        "\n",
        "df_majority = df[df['sentiment'] == 'positive']\n",
        "df_minority = df[df['sentiment'] == 'negative']\n",
        "\n",
        "negative_upsample = resample(df_minority, replace = True, \n",
        "                        n_samples = df_majority.shape[0],\n",
        "                        random_state = 101)\n",
        "\n",
        "df_upsampled = pd.concat([df_majority, negative_upsample])  # concat two data frames i,e majority class data set and upsampled minority class data set\n",
        "df_upsampled = df_upsampled.sample(frac = 1)"
      ],
      "metadata": {
        "id": "yHJTAqrW7XMN"
      },
      "id": "yHJTAqrW7XMN",
      "execution_count": 7,
      "outputs": []
    },
    {
      "cell_type": "code",
      "execution_count": 8,
      "id": "6a9329bb",
      "metadata": {
        "id": "6a9329bb",
        "colab": {
          "base_uri": "https://localhost:8080/"
        },
        "outputId": "d8bcb160-006d-4f6e-f15a-66b682bd0707"
      },
      "outputs": [
        {
          "output_type": "execute_result",
          "data": {
            "text/plain": [
              "(12474, 2)"
            ]
          },
          "metadata": {},
          "execution_count": 8
        }
      ],
      "source": [
        "## Just to ensure that upsampling was done successfully, take a look at the shape of the data in \n",
        "## this cell. \n",
        "\n",
        "# print the shape of data set with the help of shape function having \"negative\" as class label\n",
        "df_upsampled[df_upsampled.sentiment == 'negative'].shape"
      ]
    },
    {
      "cell_type": "markdown",
      "id": "6f8bf6e7",
      "metadata": {
        "id": "6f8bf6e7"
      },
      "source": [
        "### Expected Output : \n",
        "(12474, 2)"
      ]
    },
    {
      "cell_type": "code",
      "execution_count": 9,
      "id": "bdea8155",
      "metadata": {
        "colab": {
          "base_uri": "https://localhost:8080/"
        },
        "id": "bdea8155",
        "outputId": "e9015535-80d7-4f99-a82e-d9282ee2e69c"
      },
      "outputs": [
        {
          "output_type": "execute_result",
          "data": {
            "text/plain": [
              "(12474, 2)"
            ]
          },
          "metadata": {},
          "execution_count": 9
        }
      ],
      "source": [
        "## Ensure that the same number of data points are present for both 'positive' and 'negative' data\n",
        "\n",
        "# print the shape of data set with the help of shape function having \"positive\" as class label\n",
        "df_upsampled[df_upsampled.sentiment == 'positive'].shape"
      ]
    },
    {
      "cell_type": "markdown",
      "id": "626f01d5",
      "metadata": {
        "id": "626f01d5"
      },
      "source": [
        "### Expected Output : \n",
        "(12474, 2)"
      ]
    },
    {
      "cell_type": "code",
      "source": [
        "## In this cell, we are going to be dividing the data into train and test points\n",
        "## Ensure that you store the upsampled data in a variable called 'df_upsampled' \n",
        "## so that the below operations are performed successfully\n",
        "\n",
        "\n",
        "## Considering 10000 positive and 10000 negative data points\n",
        "negative_data_points_train = df_upsampled[df_upsampled.sentiment == 'negative'].iloc[:10000]\n",
        "positive_data_points_train = df_upsampled[df_upsampled.sentiment == 'positive'].iloc[:10000]\n",
        "\n",
        "## Considering the remaining data points for test\n",
        "negative_data_points_test = df_upsampled[df_upsampled.sentiment == 'negative'].iloc[10000:]\n",
        "positive_data_points_test = df_upsampled[df_upsampled.sentiment == 'positive'].iloc[10000:]\n",
        "\n",
        "## Concatenate the training positive and negative reviews\n",
        "X_train = pd.concat([negative_data_points_train.review, positive_data_points_train.review])\n",
        "## Concatenating the training positive and negative outputs\n",
        "y_train = pd.concat([negative_data_points_train.sentiment, positive_data_points_train.sentiment])\n",
        "\n",
        "## Concatenating the test positive and negative reviews\n",
        "X_test = pd.concat([negative_data_points_test.review, positive_data_points_test.review])\n",
        "## Concatenating the test positive and negative outputs\n",
        "y_test = pd.concat([negative_data_points_test.sentiment, positive_data_points_test.sentiment])"
      ],
      "metadata": {
        "id": "NoW5z6SzAeP8"
      },
      "execution_count": 10,
      "outputs": [],
      "id": "NoW5z6SzAeP8"
    },
    {
      "cell_type": "code",
      "execution_count": 11,
      "id": "6428047d",
      "metadata": {
        "colab": {
          "base_uri": "https://localhost:8080/"
        },
        "id": "6428047d",
        "outputId": "1e8a59d4-e4d2-4b65-a32b-b5afe0f03af6"
      },
      "outputs": [
        {
          "output_type": "execute_result",
          "data": {
            "text/plain": [
              "negative    10000\n",
              "positive    10000\n",
              "Name: sentiment, dtype: int64"
            ]
          },
          "metadata": {},
          "execution_count": 11
        }
      ],
      "source": [
        "## Take a look at the total number of classes and their count using '.value_counts()' for y_train and y_test.\n",
        "## Ensure that there are equal number of positive and negative reviews. \n",
        "y_train.value_counts()"
      ]
    },
    {
      "cell_type": "markdown",
      "id": "7dfe6517",
      "metadata": {
        "id": "7dfe6517"
      },
      "source": [
        "### Expected Output:\n",
        "negative    10000<br>\n",
        "positive    10000<br>\n",
        "Name: sentiment, dtype: int64"
      ]
    },
    {
      "cell_type": "code",
      "execution_count": 12,
      "id": "2beae1d6",
      "metadata": {
        "colab": {
          "base_uri": "https://localhost:8080/"
        },
        "id": "2beae1d6",
        "outputId": "94c0bd88-3c2d-4442-a6e3-5882457ab802"
      },
      "outputs": [
        {
          "output_type": "execute_result",
          "data": {
            "text/plain": [
              "negative    2474\n",
              "positive    2474\n",
              "Name: sentiment, dtype: int64"
            ]
          },
          "metadata": {},
          "execution_count": 12
        }
      ],
      "source": [
        "y_test.value_counts()"
      ]
    },
    {
      "cell_type": "markdown",
      "id": "9163f897",
      "metadata": {
        "id": "9163f897"
      },
      "source": [
        "### Expected Output : \n",
        "negative    2474<br>\n",
        "positive    2474<br>\n",
        "Name: sentiment, dtype: int64"
      ]
    },
    {
      "cell_type": "markdown",
      "id": "6501699b",
      "metadata": {
        "id": "6501699b"
      },
      "source": [
        "## Q1. Pre-process the reviews: (10 points)\n",
        "\n",
        "We know that a review contains links, punctuation, stopwords and many other words that don't give a lot of meaning for the Naive Bayes model for prediction. \n",
        "\n",
        "In the cell below, one must implement text-preprocessing and remove links, punctuations and stopwords. It is also important to lowercase the letters so that 'Admire' and 'admire' are not treated as different words. \n",
        "\n",
        "In addition to this, perform stemming operation so that similar words are reduced. To know more about stemming, feel free to take a look at this link.\n",
        "\n",
        "https://nlp.stanford.edu/IR-book/html/htmledition/stemming-and-lemmatization-1.html"
      ]
    },
    {
      "cell_type": "code",
      "source": [
        "# TASK CELL\n",
        "\n",
        "def clean_review(review):\n",
        "    '''\n",
        "    Input:\n",
        "        review: a string containing a review.\n",
        "    Output:\n",
        "        review_cleaned: a processed review. \n",
        "\n",
        "    '''\n",
        "   # Converting to lower case\n",
        "    review = review.lower() \n",
        "    \n",
        "    # removing the links\n",
        "    review = re.sub(r'https?://\\S+', '', review) \n",
        "\n",
        "    # removing the punctuations\n",
        "    review = re.sub(r'[^\\w\\s]', '', review)\n",
        "\n",
        "    # tokenizing \n",
        "    review = word_tokenize(review)\n",
        "\n",
        "    # removing stop words\n",
        "    review = [word for word in review if word not in stop_words]\n",
        "\n",
        "    # Lemmatizing input \n",
        "    review_cleaned = [lemmatizer.lemmatize(w) for w in review]\n",
        "      \n",
        "    return review_cleaned"
      ],
      "metadata": {
        "id": "CirLN9-ddQ1r"
      },
      "id": "CirLN9-ddQ1r",
      "execution_count": 13,
      "outputs": []
    },
    {
      "cell_type": "markdown",
      "id": "a7632fe5",
      "metadata": {
        "id": "a7632fe5"
      },
      "source": [
        "## Q2. Implement a find_occurrence function (5 points):\n",
        "\n",
        "In this function, we find the total occurrence of a word giving information such as label, word and frequency dictionary.\n",
        "\n",
        "Note that this function is used later in the code when we are going to be predicting the output using Naive Bayes. "
      ]
    },
    {
      "cell_type": "code",
      "execution_count": 14,
      "id": "eb282b81",
      "metadata": {
        "id": "eb282b81"
      },
      "outputs": [],
      "source": [
        "# TASK CELL\n",
        "def find_occurrence(frequency, word, label):\n",
        "    '''\n",
        "    Params:\n",
        "        frequency: a dictionary with the frequency of each pair (or tuple)\n",
        "        word: the word to look up\n",
        "        label: the label corresponding to the word\n",
        "    Return:\n",
        "        n: the number of times the word with its corresponding label appears.\n",
        "    '''\n",
        "    n = frequency.get((word, label), 0)\n",
        "    \n",
        "    return n"
      ]
    },
    {
      "cell_type": "markdown",
      "id": "29a2249d",
      "metadata": {
        "id": "29a2249d"
      },
      "source": [
        "### Converting output to numerical format:\n",
        "\n",
        "We have outputs as 'positive' or 'negative'. In the cell below, we convert it to a numerical format. "
      ]
    },
    {
      "cell_type": "code",
      "execution_count": 15,
      "id": "bcdc2b2c",
      "metadata": {
        "id": "bcdc2b2c"
      },
      "outputs": [],
      "source": [
        "## With the use of mapping function, we replace\n",
        "## the label in the form of string to an integer. \n",
        "\n",
        "output_map = {'positive': 0, 'negative': 1}\n",
        "y_train = y_train.map(output_map)\n",
        "y_test = y_test.map(output_map)"
      ]
    },
    {
      "cell_type": "code",
      "execution_count": 16,
      "id": "3dde0bbd",
      "metadata": {
        "colab": {
          "base_uri": "https://localhost:8080/"
        },
        "id": "3dde0bbd",
        "outputId": "3e5749a3-2ffe-4fde-c426-07e5c87e0c8c"
      },
      "outputs": [
        {
          "output_type": "execute_result",
          "data": {
            "text/plain": [
              "1    10000\n",
              "0    10000\n",
              "Name: sentiment, dtype: int64"
            ]
          },
          "metadata": {},
          "execution_count": 16
        }
      ],
      "source": [
        "## Ensuring that there are equal number of classes on the training data. \n",
        "y_train.value_counts()"
      ]
    },
    {
      "cell_type": "code",
      "execution_count": 17,
      "id": "f2959b85",
      "metadata": {
        "colab": {
          "base_uri": "https://localhost:8080/",
          "height": 105
        },
        "id": "f2959b85",
        "outputId": "2001fb7e-c90e-435d-f971-54416c059ea6"
      },
      "outputs": [
        {
          "output_type": "execute_result",
          "data": {
            "text/plain": [
              "\"I would put this at the top of my list of films in the category of unwatchable trash! There are films that are bad, but the worst kind are the ones that are unwatchable but you are suppose to like them because they are supposed to be good for you! The sex sequences, so shocking in its day, couldn't even arouse a rabbit. The so called controversial politics is strictly high school sophomore amateur night Marxism. The film is self-consciously arty in the worst sense of the term. The photography is in a harsh grainy black and white. Some scenes are out of focus or taken from the wrong angle. Even the sound is bad! And some people call this art?<br /><br />\""
            ],
            "application/vnd.google.colaboratory.intrinsic+json": {
              "type": "string"
            }
          },
          "metadata": {},
          "execution_count": 17
        }
      ],
      "source": [
        "## Choosing a random review and taking a look at it.\n",
        "X_train.iloc[0]"
      ]
    },
    {
      "cell_type": "markdown",
      "id": "ed5e43c9",
      "metadata": {
        "id": "ed5e43c9"
      },
      "source": [
        "From the above cell output, it could be seen that there are a lot of words that don't add a lot of meaning to the text. \n",
        "\n",
        "Therefore, those words would be removed. It also reduces the computation time. \n",
        "\n",
        "Therefore, it is a good practice we are following."
      ]
    },
    {
      "cell_type": "code",
      "execution_count": 18,
      "id": "ad3937ea",
      "metadata": {
        "colab": {
          "base_uri": "https://localhost:8080/"
        },
        "id": "ad3937ea",
        "outputId": "1f05cf21-53bd-461c-8e4c-232e4d15b384"
      },
      "outputs": [
        {
          "output_type": "stream",
          "name": "stdout",
          "text": [
            "['would', 'put', 'top', 'list', 'film', 'category', 'unwatchable', 'trash', 'film', 'bad', 'worst', 'kind', 'one', 'unwatchable', 'suppose', 'like', 'supposed', 'good', 'sex', 'sequence', 'shocking', 'day', 'couldnt', 'even', 'arouse', 'rabbit', 'called', 'controversial', 'politics', 'strictly', 'high', 'school', 'sophomore', 'amateur', 'night', 'marxism', 'film', 'selfconsciously', 'arty', 'worst', 'sense', 'term', 'photography', 'harsh', 'grainy', 'black', 'white', 'scene', 'focus', 'taken', 'wrong', 'angle', 'even', 'sound', 'bad', 'people', 'call', 'artbr', 'br']\n"
          ]
        }
      ],
      "source": [
        "custom_review = X_train.iloc[0]\n",
        "\n",
        "# print cleaned review\n",
        "print(clean_review(custom_review))"
      ]
    },
    {
      "cell_type": "markdown",
      "id": "3e6cc440",
      "metadata": {
        "id": "3e6cc440"
      },
      "source": [
        "We now use this function to pre-process the review and remove words that don't add a lot of meaning in our model. "
      ]
    },
    {
      "cell_type": "markdown",
      "id": "5a762960",
      "metadata": {
        "id": "5a762960"
      },
      "source": [
        "## Q3. Implementing review counter function: (5 points)\n",
        "\n",
        "It is now time to implement the count function for the reviews. \n",
        "\n",
        "In this function, we count the occurrence of words and get the probabilities \n",
        "for the words based on the training data. \n",
        "\n",
        "In other words, we get the probability of occurrence of a word, given that the output is 'positive'.\n",
        "\n",
        "Similarly, we also compute the probability of occurence of a word, given that the output is 'negative'.\n",
        "\n"
      ]
    },
    {
      "cell_type": "code",
      "execution_count": 19,
      "id": "5de61f77",
      "metadata": {
        "id": "5de61f77"
      },
      "outputs": [],
      "source": [
        "# TASK CELL\n",
        "def review_counter(output_occurrence, reviews, positive_or_negative):\n",
        "    '''\n",
        "    Params:\n",
        "        output_occurrence: a dictionary that will be used to map each pair to its frequency\n",
        "        reviews: a list of reviews\n",
        "        positive_or_negative: a list corresponding to the sentiment of each review (either 0 or 1)\n",
        "    Return:\n",
        "        output: a dictionary mapping each pair to its frequency\n",
        "    '''\n",
        "    ## Steps :\n",
        "    # define the key, which is the word and label tuple\n",
        "    # if the key exists in the dictionary, increment the count\n",
        "    # else, if the key is new, add it to the dictionary and set the count to 1\n",
        "    \n",
        "    for label, review in zip(positive_or_negative, reviews):\n",
        "      split_review = clean_review(review)\n",
        "      for word in split_review:\n",
        "        # Your code here\n",
        "        if (word,label) in output_occurrence.keys():\n",
        "                output_occurrence[(word,label)] += 1\n",
        "        else:\n",
        "                output_occurrence[(word,label)] = 1\n",
        "   \n",
        "    return output_occurrence"
      ]
    },
    {
      "cell_type": "markdown",
      "id": "18238223",
      "metadata": {
        "id": "18238223"
      },
      "source": [
        "### Test your function with example reviews:\n",
        "\n",
        "Feel free to run the cell below and understand whether the above function that you have defined is producing the optimum results. "
      ]
    },
    {
      "cell_type": "code",
      "execution_count": 20,
      "id": "07a4c58a",
      "metadata": {
        "colab": {
          "base_uri": "https://localhost:8080/"
        },
        "id": "07a4c58a",
        "outputId": "8f7ef9d2-1b17-4937-de35-13dbe77c52bf"
      },
      "outputs": [
        {
          "output_type": "execute_result",
          "data": {
            "text/plain": [
              "{('got', 1): 1,\n",
              " ('bored', 1): 2,\n",
              " ('throught', 1): 1,\n",
              " ('moview', 1): 1,\n",
              " ('movie', 0): 2,\n",
              " ('fantastic', 0): 1,\n",
              " ('watch', 1): 1,\n",
              " ('complete', 1): 1,\n",
              " ('waste', 1): 1,\n",
              " ('time', 1): 1,\n",
              " ('money', 1): 1,\n",
              " ('enjoyed', 0): 1,\n",
              " ('fullest', 0): 1}"
            ]
          },
          "metadata": {},
          "execution_count": 20
        }
      ],
      "source": [
        "# Testing your function\n",
        "\n",
        "result = {}\n",
        "reviews = ['got bored throught the moview', 'The movie was fantastic', 'Will not watch it again', 'Was bored, it was a complete waste of time and money', 'Enjoyed the movie to the fullest']\n",
        "ys = [1, 0, 1, 1, 0]\n",
        "review_counter(result,reviews, ys)"
      ]
    },
    {
      "cell_type": "markdown",
      "id": "927f89bb",
      "metadata": {
        "id": "927f89bb"
      },
      "source": [
        "### Expected Output:\n",
        " {('bored', 1): 2, <br>\n",
        " ('complete', 1): 1, <br>\n",
        " ('enjoyed', 0): 1, <br>\n",
        " ('fantastic', 0): 1, <br>\n",
        " ('fullest', 0): 1, <br>\n",
        " ('got', 1): 1, <br>\n",
        " ('money', 1): 1, <br>\n",
        " ('movie', 0): 2, <br>\n",
        " ('moview', 1): 1, <br>\n",
        " ('throught', 1): 1, <br>\n",
        " ('time', 1): 1, <br>\n",
        " ('waste', 1): 1, <br>\n",
        " ('watch', 1): 1}"
      ]
    },
    {
      "cell_type": "code",
      "execution_count": 21,
      "id": "9bc62e13",
      "metadata": {
        "id": "9bc62e13"
      },
      "outputs": [],
      "source": [
        "# Build the freqs dictionary for later uses\n",
        "\n",
        "freqs = review_counter({}, X_train, y_train)"
      ]
    },
    {
      "cell_type": "code",
      "execution_count": 22,
      "id": "0eddf420",
      "metadata": {
        "id": "0eddf420",
        "colab": {
          "base_uri": "https://localhost:8080/"
        },
        "outputId": "4d473741-b419-4f31-dc86-4b31348632ad"
      },
      "outputs": [
        {
          "output_type": "execute_result",
          "data": {
            "text/plain": [
              "{('would', 1): 5683,\n",
              " ('put', 1): 1174,\n",
              " ('top', 1): 527,\n",
              " ('list', 1): 257,\n",
              " ('film', 1): 16767,\n",
              " ('category', 1): 119,\n",
              " ('unwatchable', 1): 102,\n",
              " ('trash', 1): 280,\n",
              " ('bad', 1): 5743,\n",
              " ('worst', 1): 1889,\n",
              " ('kind', 1): 1372,\n",
              " ('one', 1): 10424,\n",
              " ('suppose', 1): 228,\n",
              " ('like', 1): 8958,\n",
              " ('supposed', 1): 883,\n",
              " ('good', 1): 5736,\n",
              " ('sex', 1): 768,\n",
              " ('sequence', 1): 624,\n",
              " ('shocking', 1): 159,\n",
              " ('day', 1): 1291,\n",
              " ('couldnt', 1): 876,\n",
              " ('even', 1): 6199,\n",
              " ('arouse', 1): 5,\n",
              " ('rabbit', 1): 27,\n",
              " ('called', 1): 579,\n",
              " ('controversial', 1): 51,\n",
              " ('politics', 1): 62,\n",
              " ('strictly', 1): 54,\n",
              " ('high', 1): 703,\n",
              " ('school', 1): 640,\n",
              " ('sophomore', 1): 4,\n",
              " ('amateur', 1): 152,\n",
              " ('night', 1): 847,\n",
              " ('marxism', 1): 3,\n",
              " ('selfconsciously', 1): 5,\n",
              " ('arty', 1): 32,\n",
              " ('sense', 1): 895,\n",
              " ('term', 1): 195,\n",
              " ('photography', 1): 152,\n",
              " ('harsh', 1): 67,\n",
              " ('grainy', 1): 37,\n",
              " ('black', 1): 825,\n",
              " ('white', 1): 500,\n",
              " ('scene', 1): 4551,\n",
              " ('focus', 1): 239,\n",
              " ('taken', 1): 348,\n",
              " ('wrong', 1): 915,\n",
              " ('angle', 1): 166,\n",
              " ('sound', 1): 870,\n",
              " ('people', 1): 3716,\n",
              " ('call', 1): 593,\n",
              " ('artbr', 1): 10,\n",
              " ('br', 1): 23358,\n",
              " ('hollywood', 1): 654,\n",
              " ('attempt', 1): 875,\n",
              " ('turn', 1): 947,\n",
              " ('jack', 1): 305,\n",
              " ('london', 1): 104,\n",
              " ('life', 1): 2037,\n",
              " ('adventure', 1): 127,\n",
              " ('isnt', 1): 1512,\n",
              " ('idea', 1): 1321,\n",
              " ('certainly', 1): 522,\n",
              " ('led', 1): 108,\n",
              " ('interesting', 1): 1282,\n",
              " ('sometimes', 1): 340,\n",
              " ('adventurous', 1): 11,\n",
              " ('however', 1): 1328,\n",
              " ('wind', 1): 159,\n",
              " ('flat', 1): 338,\n",
              " ('unsatisfying', 1): 32,\n",
              " ('importantly', 1): 51,\n",
              " ('lack', 1): 776,\n",
              " ('integrity', 1): 14,\n",
              " ('michael', 1): 407,\n",
              " ('oshea', 1): 2,\n",
              " ('londonesque', 1): 1,\n",
              " ('speech', 1): 95,\n",
              " ('nice', 1): 668,\n",
              " ('see', 1): 4425,\n",
              " ('bearded', 1): 7,\n",
              " ('receive', 1): 37,\n",
              " ('wild', 1): 116,\n",
              " ('spending', 1): 63,\n",
              " ('quality', 1): 592,\n",
              " ('time', 1): 5676,\n",
              " ('alone', 1): 360,\n",
              " ('snowy', 1): 12,\n",
              " ('mountain', 1): 148,\n",
              " ('dog', 1): 393,\n",
              " ('buck', 1): 138,\n",
              " ('virginia', 1): 41,\n",
              " ('mayo', 1): 2,\n",
              " ('susan', 1): 53,\n",
              " ('hayward', 1): 17,\n",
              " ('pretty', 1): 1701,\n",
              " ('draw', 1): 116,\n",
              " ('unfortunate', 1): 95,\n",
              " ('yellow', 1): 29,\n",
              " ('peril', 1): 23,\n",
              " ('parallel', 1): 43,\n",
              " ('world', 1): 987,\n",
              " ('war', 1): 569,\n",
              " ('ii', 1): 101,\n",
              " ('strained', 1): 23,\n",
              " ('insulting', 1): 76,\n",
              " ('112443', 1): 1,\n",
              " ('alfred', 1): 26,\n",
              " ('santell', 1): 1,\n",
              " ('think', 1): 2980,\n",
              " ('anyone', 1): 1073,\n",
              " ('embarking', 1): 5,\n",
              " ('upon', 1): 350,\n",
              " ('followup', 1): 30,\n",
              " ('groundbreaking', 1): 21,\n",
              " ('naked', 1): 239,\n",
              " ('civil', 1): 39,\n",
              " ('servant', 1): 38,\n",
              " ('30plus', 1): 2,\n",
              " ('year', 1): 2065,\n",
              " ('ago', 1): 370,\n",
              " ('least', 1): 1541,\n",
              " ('try', 1): 1362,\n",
              " ('honor', 1): 48,\n",
              " ('original', 1): 1505,\n",
              " ('inspired', 1): 87,\n",
              " ('vision', 1): 116,\n",
              " ('sort', 1): 728,\n",
              " ('biopic', 1): 29,\n",
              " ('stylish', 1): 56,\n",
              " ('late', 1): 328,\n",
              " ('20th', 1): 31,\n",
              " ('century', 1): 151,\n",
              " ('boast', 1): 20,\n",
              " ('style', 1): 498,\n",
              " ('whatsoever', 1): 204,\n",
              " ('true', 1): 615,\n",
              " ('filmmaker', 1): 481,\n",
              " ('assembled', 1): 21,\n",
              " ('outstanding', 1): 51,\n",
              " ('actor', 1): 2741,\n",
              " ('handed', 1): 44,\n",
              " ('chipped', 1): 3,\n",
              " ('mug', 1): 14,\n",
              " ('drab', 1): 46,\n",
              " ('gruel', 1): 6,\n",
              " ('work', 1): 1856,\n",
              " ('everything', 1): 974,\n",
              " ('infrastructure', 1): 2,\n",
              " ('starting', 1): 99,\n",
              " ('script', 1): 1730,\n",
              " ('another', 1): 1687,\n",
              " ('tvmovie', 1): 16,\n",
              " ('condensation', 1): 3,\n",
              " ('great', 1): 2176,\n",
              " ('wherein', 1): 19,\n",
              " ('every', 1): 1580,\n",
              " ('line', 1): 1401,\n",
              " ('famous', 1): 190,\n",
              " ('quote', 1): 90,\n",
              " ('subject', 1): 312,\n",
              " ('inyourface', 1): 7,\n",
              " ('introduction', 1): 83,\n",
              " ('next', 1): 697,\n",
              " ('pivotal', 1): 14,\n",
              " ('character', 1): 5539,\n",
              " ('get', 1): 5308,\n",
              " ('swoozie', 1): 2,\n",
              " ('kurtz', 1): 30,\n",
              " ('pr', 1): 8,\n",
              " ('maven', 1): 3,\n",
              " ('promotes', 1): 9,\n",
              " ('crisp', 1): 25,\n",
              " ('stateside', 1): 2,\n",
              " ('entertainer', 1): 16,\n",
              " ('denis', 1): 14,\n",
              " ('ohare', 1): 2,\n",
              " ('editor', 1): 66,\n",
              " ('gay', 1): 348,\n",
              " ('periodical', 1): 2,\n",
              " ('hire', 1): 90,\n",
              " ('reviewer', 1): 209,\n",
              " ('becomes', 1): 416,\n",
              " ('somewhat', 1): 306,\n",
              " ('alienated', 1): 9,\n",
              " ('appears', 1): 351,\n",
              " ('indifferent', 1): 26,\n",
              " ('passion', 1): 89,\n",
              " ('80', 1): 335,\n",
              " ('aid', 1): 63,\n",
              " ('activist', 1): 7,\n",
              " ('return', 1): 298,\n",
              " ('fold', 1): 6,\n",
              " ('compassionate', 1): 20,\n",
              " ('friend', 1): 1145,\n",
              " ('dying', 1): 104,\n",
              " ('octogenarian', 1): 3,\n",
              " ('jonathan', 1): 34,\n",
              " ('tucker', 1): 11,\n",
              " ('fine', 1): 352,\n",
              " ('performance', 1): 1200,\n",
              " ('shy', 1): 31,\n",
              " ('insecure', 1): 13,\n",
              " ('painter', 1): 28,\n",
              " ('gaythemed', 1): 6,\n",
              " ('canvas', 1): 10,\n",
              " ('befriended', 1): 8,\n",
              " ('finally', 1): 597,\n",
              " ('cynthia', 1): 22,\n",
              " ('nixon', 1): 12,\n",
              " ('artist', 1): 133,\n",
              " ('womanaboutbohemia', 1): 2,\n",
              " ('penny', 1): 20,\n",
              " ('arcade', 1): 9,\n",
              " ('intrigued', 1): 38,\n",
              " ('persona', 1): 44,\n",
              " ('offer', 1): 247,\n",
              " ('spot', 1): 177,\n",
              " ('traveling', 1): 45,\n",
              " ('cabaret', 1): 9,\n",
              " ('act', 1): 746,\n",
              " ('persuasive', 1): 2,\n",
              " ('gifted', 1): 31,\n",
              " ('performer', 1): 95,\n",
              " ('given', 1): 746,\n",
              " ('chance', 1): 354,\n",
              " ('embody', 1): 6,\n",
              " ('downtoearth', 1): 3,\n",
              " ('streetwise', 1): 5,\n",
              " ('spent', 1): 308,\n",
              " ('last', 1): 1113,\n",
              " ('20', 1): 319,\n",
              " ('oneroom', 1): 2,\n",
              " ('old', 1): 1506,\n",
              " ('tenement', 1): 2,\n",
              " ('building', 1): 190,\n",
              " ('manhattan', 1): 44,\n",
              " ('east', 1): 58,\n",
              " ('village', 1): 66,\n",
              " ('famously', 1): 5,\n",
              " ('said', 1): 991,\n",
              " ('never', 1): 2728,\n",
              " ('cleaned', 1): 12,\n",
              " ('dust', 1): 46,\n",
              " ('doesnt', 1): 2028,\n",
              " ('worse', 1): 982,\n",
              " ('something', 1): 2266,\n",
              " ('looking', 1): 1124,\n",
              " ('depiction', 1): 72,\n",
              " ('youd', 1): 217,\n",
              " ('flavor', 1): 11,\n",
              " ('dustiness', 1): 2,\n",
              " ('frequented', 1): 5,\n",
              " ('local', 1): 410,\n",
              " ('coffee', 1): 52,\n",
              " ('shop', 1): 103,\n",
              " ('busy', 1): 55,\n",
              " ('avenue', 1): 10,\n",
              " ('seen', 1): 2621,\n",
              " ('much', 1): 3813,\n",
              " ('week', 1): 243,\n",
              " ('sipping', 1): 6,\n",
              " ('tea', 1): 42,\n",
              " ('watching', 1): 2014,\n",
              " ('go', 1): 2976,\n",
              " ('diner', 1): 28,\n",
              " ('look', 1): 2871,\n",
              " ('12th', 1): 5,\n",
              " ('hudson', 1): 63,\n",
              " ('river', 1): 108,\n",
              " ('street', 1): 276,\n",
              " ('new', 1): 1332,\n",
              " ('york', 1): 214,\n",
              " ('sterile', 1): 12,\n",
              " ('unreal', 1): 46,\n",
              " ('period', 1): 279,\n",
              " ('soul', 1): 204,\n",
              " ('john', 1): 730,\n",
              " ('hurt', 1): 162,\n",
              " ('title', 1): 708,\n",
              " ('role', 1): 1284,\n",
              " ('nearly', 1): 304,\n",
              " ('35', 1): 43,\n",
              " ('still', 1): 1819,\n",
              " ('grasp', 1): 36,\n",
              " ('essence', 1): 43,\n",
              " ('peculiar', 1): 19,\n",
              " ('postedwardian', 1): 2,\n",
              " ('englishman', 1): 20,\n",
              " ('across', 1): 397,\n",
              " ('third', 1): 228,\n",
              " ('millennarians', 1): 2,\n",
              " ('gesture', 1): 28,\n",
              " ('exquisite', 1): 13,\n",
              " ('later', 1): 741,\n",
              " ('modulates', 1): 2,\n",
              " ('vocal', 1): 28,\n",
              " ('projection', 1): 9,\n",
              " ('suit', 1): 183,\n",
              " ('person', 1): 728,\n",
              " ('whose', 1): 299,\n",
              " ('winding', 1): 5,\n",
              " ('toward', 1): 122,\n",
              " ('death', 1): 747,\n",
              " ('wrote', 1): 297,\n",
              " ('shortly', 1): 43,\n",
              " ('left', 1): 916,\n",
              " ('realm', 1): 38,\n",
              " ('grows', 1): 46,\n",
              " ('skin', 1): 80,\n",
              " ('take', 1): 2138,\n",
              " ('smelly', 1): 4,\n",
              " ('overcoat', 1): 7,\n",
              " ('removed', 1): 53,\n",
              " ('longs', 1): 5,\n",
              " ('sens', 1): 35,\n",
              " ('feeling', 1): 512,\n",
              " ('worth', 1): 879,\n",
              " ('well', 1): 3062,\n",
              " ('watched', 1): 929,\n",
              " ('thing', 1): 3670,\n",
              " ('didnt', 1): 2102,\n",
              " ('make', 1): 5112,\n",
              " ('completely', 1): 916,\n",
              " ('terrible', 1): 1173,\n",
              " ('straight', 1): 330,\n",
              " ('forward', 1): 287,\n",
              " ('beating', 1): 46,\n",
              " ('around', 1): 1452,\n",
              " ('bush', 1): 73,\n",
              " ('kid', 1): 1144,\n",
              " ('antichrist', 1): 17,\n",
              " ('movie', 1): 22125,\n",
              " ('poorly', 1): 535,\n",
              " ('written', 1): 538,\n",
              " ('example', 1): 677,\n",
              " ('explained', 1): 153,\n",
              " ('made', 1): 3309,\n",
              " ('dentist', 1): 26,\n",
              " ('incident', 1): 73,\n",
              " ('accident', 1): 109,\n",
              " ('end', 1): 2459,\n",
              " ('cop', 1): 428,\n",
              " ('miraculously', 1): 36,\n",
              " ('ended', 1): 239,\n",
              " ('house', 1): 788,\n",
              " ('save', 1): 646,\n",
              " ('without', 1): 1271,\n",
              " ('police', 1): 382,\n",
              " ('yet', 1): 885,\n",
              " ('really', 1): 4948,\n",
              " ('entertaining', 1): 445,\n",
              " ('chose', 1): 89,\n",
              " ('play', 1): 1351,\n",
              " ('boring', 1): 1133,\n",
              " ('couldve', 1): 72,\n",
              " ('picked', 1): 172,\n",
              " ('better', 1): 2633,\n",
              " ('dont', 1): 4194,\n",
              " ('waste', 1): 1036,\n",
              " ('cheap', 1): 560,\n",
              " ('grainyfilmed', 1): 1,\n",
              " ('italian', 1): 229,\n",
              " ('flick', 1): 812,\n",
              " ('couple', 1): 778,\n",
              " ('inheritor', 1): 2,\n",
              " ('manor', 1): 6,\n",
              " ('countryside', 1): 35,\n",
              " ('head', 1): 800,\n",
              " ('stay', 1): 389,\n",
              " ('find', 1): 1758,\n",
              " ('getting', 1): 715,\n",
              " ('killed', 1): 548,\n",
              " ('ghost', 1): 290,\n",
              " ('housebr', 1): 12,\n",
              " ('wasnt', 1): 1098,\n",
              " ('impressed', 1): 105,\n",
              " ('scary', 1): 394,\n",
              " ('mostly', 1): 387,\n",
              " ('way', 1): 3229,\n",
              " ('girl', 1): 1605,\n",
              " ('two', 1): 2458,\n",
              " ('cousin', 1): 79,\n",
              " ('girlfriend', 1): 243,\n",
              " ('huge', 1): 383,\n",
              " ('reason', 1): 1400,\n",
              " ('figure', 1): 382,\n",
              " ('staying', 1): 49,\n",
              " ('cleaning', 1): 20,\n",
              " ('checking', 1): 45,\n",
              " ('place', 1): 983,\n",
              " ('come', 1): 2136,\n",
              " ('quite', 1): 1297,\n",
              " ('point', 1): 1649,\n",
              " ('majority', 1): 113,\n",
              " ('rushed', 1): 59,\n",
              " ('hit', 1): 432,\n",
              " ('car', 1): 720,\n",
              " ('fleeing', 1): 15,\n",
              " ('dream', 1): 211,\n",
              " ('slow', 1): 423,\n",
              " ('confusing', 1): 202,\n",
              " ('male', 1): 342,\n",
              " ('together', 1): 736,\n",
              " ('weird', 1): 243,\n",
              " ('weirdo', 1): 18,\n",
              " ('guy', 1): 2110,\n",
              " ('maybe', 1): 1123,\n",
              " ('remember', 1): 565,\n",
              " ('attacking', 1): 38,\n",
              " ('kill', 1): 869,\n",
              " ('hate', 1): 394,\n",
              " ('give', 1): 1874,\n",
              " ('away', 1): 1046,\n",
              " ('ending', 1): 859,\n",
              " ('oh', 1): 786,\n",
              " ('female', 1): 482,\n",
              " ('decides', 1): 193,\n",
              " ('watch', 1): 2875,\n",
              " ('show', 1): 2908,\n",
              " ('living', 1): 347,\n",
              " ('arent', 1): 484,\n",
              " ('missing', 1): 287,\n",
              " ('anything', 1): 1471,\n",
              " ('anyway', 1): 435,\n",
              " ('probably', 1): 1216,\n",
              " ('wont', 1): 492,\n",
              " ('anywhere', 1): 122,\n",
              " ('lucky', 1): 75,\n",
              " ('describe', 1): 147,\n",
              " ('moviebr', 1): 421,\n",
              " ('hilariousbr', 1): 13,\n",
              " ('acting', 1): 3104,\n",
              " ('laughed', 1): 142,\n",
              " ('as', 1): 104,\n",
              " ('throughout', 1): 521,\n",
              " ('lead', 1): 799,\n",
              " ('trying', 1): 1249,\n",
              " ('use', 1): 720,\n",
              " ('gun', 1): 331,\n",
              " ('ridiculous', 1): 558,\n",
              " ('copy', 1): 269,\n",
              " ('toy', 1): 48,\n",
              " ('action', 1): 1249,\n",
              " ('know', 1): 2973,\n",
              " ('cant', 1): 1852,\n",
              " ('help', 1): 765,\n",
              " ('agreebr', 1): 3,\n",
              " ('monster', 1): 612,\n",
              " ('cgi', 1): 184,\n",
              " ('recreate', 1): 29,\n",
              " ('clay', 1): 26,\n",
              " ('sinbad', 1): 4,\n",
              " ('moviesbr', 1): 68,\n",
              " ('short', 1): 733,\n",
              " ('large', 1): 197,\n",
              " ('laugh', 1): 934,\n",
              " ('getbr', 1): 9,\n",
              " ('want', 1): 2060,\n",
              " ('special', 1): 921,\n",
              " ('effect', 1): 1349,\n",
              " ('gone', 1): 324,\n",
              " ('wrongbr', 1): 45,\n",
              " ('towards', 1): 237,\n",
              " ('felt', 1): 617,\n",
              " ('technical', 1): 139,\n",
              " ('classroom', 1): 15,\n",
              " ('navy', 1): 48,\n",
              " ('performs', 1): 29,\n",
              " ('rescue', 1): 101,\n",
              " ('sea', 1): 138,\n",
              " ('liked', 1): 431,\n",
              " ('seeing', 1): 780,\n",
              " ('engine', 1): 41,\n",
              " ('fire', 1): 343,\n",
              " ('extinguisher', 1): 6,\n",
              " ('guess', 1): 610,\n",
              " ('figured', 1): 93,\n",
              " ('thought', 1): 1448,\n",
              " ('using', 1): 357,\n",
              " ('747', 1): 16,\n",
              " ('transport', 1): 8,\n",
              " ('valuable', 1): 38,\n",
              " ('painting', 1): 56,\n",
              " ('little', 1): 2339,\n",
              " ('security', 1): 78,\n",
              " ('odd', 1): 209,\n",
              " ('realistic', 1): 161,\n",
              " ('since', 1): 1054,\n",
              " ('theyre', 1): 649,\n",
              " ('seasoned', 1): 12,\n",
              " ('professional', 1): 111,\n",
              " ('youre', 1): 901,\n",
              " ('going', 1): 1824,\n",
              " ('stretch', 1): 85,\n",
              " ('far', 1): 1181,\n",
              " ('likely', 1): 180,\n",
              " ('happen', 1): 424,\n",
              " ('fantasy', 1): 149,\n",
              " ('comical', 1): 66,\n",
              " ('etc', 1): 464,\n",
              " ('seriously', 1): 493,\n",
              " ('felix', 1): 6,\n",
              " ('ungar', 1): 4,\n",
              " ('pilot', 1): 140,\n",
              " ('rogers', 1): 60,\n",
              " ('stalker', 1): 25,\n",
              " ('dracula', 1): 102,\n",
              " ('also', 1): 2847,\n",
              " ('board', 1): 131,\n",
              " ('filled', 1): 177,\n",
              " ('known', 1): 313,\n",
              " ('face', 1): 757,\n",
              " ('understand', 1): 682,\n",
              " ('exaggerate', 1): 10,\n",
              " ('bit', 1): 1144,\n",
              " ('drama', 1): 396,\n",
              " ('serious', 1): 391,\n",
              " ('caricature', 1): 54,\n",
              " ('thats', 1): 1781,\n",
              " ('pet', 1): 53,\n",
              " ('peeve', 1): 9,\n",
              " ('airline', 1): 12,\n",
              " ('travel', 1): 127,\n",
              " ('everybody', 1): 155,\n",
              " ('casually', 1): 10,\n",
              " ('move', 1): 467,\n",
              " ('walk', 1): 302,\n",
              " ('drink', 1): 126,\n",
              " ('setting', 1): 227,\n",
              " ('picking', 1): 54,\n",
              " ('5', 1): 473,\n",
              " ('minute', 1): 2057,\n",
              " ('turbulence', 1): 2,\n",
              " ('exist', 1): 117,\n",
              " ('disaster', 1): 184,\n",
              " ('suspense', 1): 306,\n",
              " ('include', 1): 178,\n",
              " ('30', 1): 285,\n",
              " ('second', 1): 860,\n",
              " ('crash', 1): 145,\n",
              " ('hitting', 1): 59,\n",
              " ('skilled', 1): 27,\n",
              " ('actress', 1): 575,\n",
              " ('keep', 1): 775,\n",
              " ('weak', 1): 377,\n",
              " ('got', 1): 1618,\n",
              " ('canned', 1): 20,\n",
              " ('first', 1): 3219,\n",
              " ('screening', 1): 61,\n",
              " ('lee', 1): 306,\n",
              " ('grant', 1): 86,\n",
              " ('fun', 1): 792,\n",
              " ('psychotic', 1): 45,\n",
              " ('decked', 1): 3,\n",
              " ('could', 1): 3650,\n",
              " ('many', 1): 2366,\n",
              " ('unnecessary', 1): 111,\n",
              " ('historical', 1): 165,\n",
              " ('inaccuracy', 1): 20,\n",
              " ('chosen', 1): 73,\n",
              " ('real', 1): 1592,\n",
              " ('difficult', 1): 230,\n",
              " ('sissi', 1): 4,\n",
              " ('mayerling', 1): 1,\n",
              " ('dead', 1): 821,\n",
              " ('son', 1): 436,\n",
              " ('die', 1): 325,\n",
              " ('carried', 1): 86,\n",
              " ('boat', 1): 178,\n",
              " ('back', 1): 1775,\n",
              " ('hotel', 1): 121,\n",
              " ('dramatic', 1): 223,\n",
              " ('sure', 1): 1087,\n",
              " ('wedding', 1): 79,\n",
              " ('exaggerated', 1): 48,\n",
              " ('ladyinwaiting', 1): 1,\n",
              " ('undress', 1): 12,\n",
              " ('empress', 1): 7,\n",
              " ('leave', 1): 424,\n",
              " ('1850s', 1): 1,\n",
              " ('emperor', 1): 63,\n",
              " ('announce', 1): 7,\n",
              " ('proudly', 1): 4,\n",
              " ('yes', 1): 628,\n",
              " ('laid', 1): 50,\n",
              " ('court', 1): 46,\n",
              " ('done', 1): 1169,\n",
              " ('right', 1): 1323,\n",
              " ('nobody', 1): 224,\n",
              " ('rewarded', 1): 15,\n",
              " ('streetwalker', 1): 2,\n",
              " ('saving', 1): 139,\n",
              " ('grace', 1): 128,\n",
              " ('stephane', 1): 1,\n",
              " ('audran', 1): 3,\n",
              " ('excellent', 1): 305,\n",
              " ('enjoy', 1): 559,\n",
              " ('guilty', 1): 71,\n",
              " ('pleasure', 1): 84,\n",
              " ('vigilante', 1): 29,\n",
              " ('might', 1): 1275,\n",
              " ('mst3k', 1): 87,\n",
              " ('nauseatingly', 1): 7,\n",
              " ('matter', 1): 522,\n",
              " ('hard', 1): 1002,\n",
              " ('truly', 1): 624,\n",
              " ('regret', 1): 72,\n",
              " ('wasting', 1): 133,\n",
              " ('2', 1): 1134,\n",
              " ('hour', 1): 961,\n",
              " ('precious', 1): 71,\n",
              " ('crap', 1): 618,\n",
              " ('tell', 1): 968,\n",
              " ('asked', 1): 151,\n",
              " ('everyone', 1): 791,\n",
              " ('knew', 1): 321,\n",
              " ('bury', 1): 17,\n",
              " ('career', 1): 413,\n",
              " ('apparently', 1): 493,\n",
              " ('walking', 1): 201,\n",
              " ('tall', 1): 62,\n",
              " ('garnered', 1): 24,\n",
              " ('enough', 1): 1532,\n",
              " ('income', 1): 8,\n",
              " ('someone', 1): 1239,\n",
              " ('decided', 1): 361,\n",
              " ('investment', 1): 22,\n",
              " ('ive', 1): 1317,\n",
              " ('blotted', 1): 3,\n",
              " ('memory', 1): 170,\n",
              " ('1973', 1): 33,\n",
              " ('older', 1): 179,\n",
              " ('highly', 1): 207,\n",
              " ('rated', 1): 147,\n",
              " ('version', 1): 739,\n",
              " ('nicholas', 1): 34,\n",
              " ('cage', 1): 101,\n",
              " ('fan', 1): 1189,\n",
              " ('usual', 1): 306,\n",
              " ('took', 1): 444,\n",
              " ('five', 1): 394,\n",
              " ('hammer', 1): 72,\n",
              " ('whole', 1): 1421,\n",
              " ('plot', 1): 3268,\n",
              " ('cocktail', 1): 26,\n",
              " ('napkin', 1): 4,\n",
              " ('dinner', 1): 64,\n",
              " ('party', 1): 250,\n",
              " ('drool', 1): 14,\n",
              " ('thirty', 1): 71,\n",
              " ('rut', 1): 3,\n",
              " ('seems', 1): 1642,\n",
              " ('dug', 1): 17,\n",
              " ('horrormysterythriller', 1): 3,\n",
              " ('genre', 1): 414,\n",
              " ('unable', 1): 103,\n",
              " ('audience', 1): 1079,\n",
              " ('credit', 1): 488,\n",
              " ('write', 1): 321,\n",
              " ('fresh', 1): 107,\n",
              " ('smart', 1): 155,\n",
              " ('tantalizing', 1): 6,\n",
              " ('screenplay', 1): 269,\n",
              " ('dish', 1): 23,\n",
              " ('creepy', 1): 203,\n",
              " ('music', 1): 969,\n",
              " ('throw', 1): 238,\n",
              " ('jump', 1): 169,\n",
              " ('send', 1): 97,\n",
              " ('final', 1): 443,\n",
              " ('print', 1): 78,\n",
              " ('theater', 1): 390,\n",
              " ('jiggling', 1): 6,\n",
              " ('handheld', 1): 30,\n",
              " ('camera', 1): 905,\n",
              " ('syndrome', 1): 19,\n",
              " ('awful', 1): 1145,\n",
              " ('storybr', 1): 83,\n",
              " ('production', 1): 842,\n",
              " ('though', 1): 1626,\n",
              " ('set', 1): 1209,\n",
              " ('exterior', 1): 25,\n",
              " ('bristol', 1): 2,\n",
              " ('â', 1): 779,\n",
              " ('cathedral', 1): 8,\n",
              " ('youve', 1): 350,\n",
              " ('em', 1): 46,\n",
              " ('ofbr', 1): 17,\n",
              " ('story', 1): 4100,\n",
              " ('howeveris', 1): 1,\n",
              " ('man', 1): 1882,\n",
              " ('born', 1): 96,\n",
              " ('power', 1): 440,\n",
              " ('wreak', 1): 14,\n",
              " ('destruction', 1): 57,\n",
              " ('anybody', 1): 146,\n",
              " ('wish', 1): 361,\n",
              " ('passing', 1): 55,\n",
              " ('reference', 1): 169,\n",
              " ('instance', 1): 161,\n",
              " ('telekinesis', 1): 5,\n",
              " ('narrative', 1): 137,\n",
              " ('build', 1): 179,\n",
              " ('picture', 1): 629,\n",
              " ('misused', 1): 14,\n",
              " ('misjudged', 1): 7,\n",
              " ('boy', 1): 689,\n",
              " ('teenager', 1): 200,\n",
              " ('fact', 1): 1580,\n",
              " ('exacts', 1): 1,\n",
              " ('vengeance', 1): 27,\n",
              " ('literally', 1): 203,\n",
              " ('conclusion', 1): 215,\n",
              " ('heading', 1): 31,\n",
              " ('thus', 1): 127,\n",
              " ('destroy', 1): 126,\n",
              " ('lot', 1): 1832,\n",
              " ('thinking', 1): 560,\n",
              " ('itbr', 1): 401,\n",
              " ('trouble', 1): 255,\n",
              " ('mix', 1): 124,\n",
              " ('genuine', 1): 68,\n",
              " ('scientific', 1): 54,\n",
              " ('data', 1): 17,\n",
              " ('strange', 1): 331,\n",
              " ('mental', 1): 101,\n",
              " ('merge', 1): 2,\n",
              " ('quasireligious', 1): 1,\n",
              " ('claptrap', 1): 10,\n",
              " ('produce', 1): 134,\n",
              " ('hodgepodge', 1): 21,\n",
              " ('theory', 1): 105,\n",
              " ('mixing', 1): 22,\n",
              " ('fashion', 1): 133,\n",
              " ('rarely', 1): 124,\n",
              " ('im', 1): 2255,\n",
              " ('afraid', 1): 136,\n",
              " ('richard', 1): 206,\n",
              " ('burton', 1): 76,\n",
              " ('overact', 1): 11,\n",
              " ('awfully', 1): 47,\n",
              " ('occasion', 1): 67,\n",
              " ('convincing', 1): 182,\n",
              " ('best', 1): 1621,\n",
              " ('gave', 1): 513,\n",
              " ('wife', 1): 686,\n",
              " ('lover', 1): 209,\n",
              " ('verbal', 1): 14,\n",
              " ('pasting', 1): 2,\n",
              " ('home', 1): 609,\n",
              " ('sharp', 1): 38,\n",
              " ('witty', 1): 64,\n",
              " ('deadly', 1): 119,\n",
              " ('dialog', 1): 493,\n",
              " ('delivered', 1): 87,\n",
              " ('couldbr', 1): 8,\n",
              " ('supporting', 1): 221,\n",
              " ('cast', 1): 1372,\n",
              " ('beginning', 1): 574,\n",
              " ('lino', 1): 1,\n",
              " ('ventura', 1): 8,\n",
              " ('saw', 1): 1140,\n",
              " ('garde', 1): 5,\n",
              " ('vu', 1): 9,\n",
              " ('1981', 1): 20,\n",
              " ('inspector', 1): 57,\n",
              " ('brunel', 1): 2,\n",
              " ('harry', 1): 96,\n",
              " ('andrew', 1): 67,\n",
              " ('assistant', 1): 82,\n",
              " ('commissioner', 1): 8,\n",
              " ('underrated', 1): 21,\n",
              " ('remick', 1): 2,\n",
              " ('dr', 1): 277,\n",
              " ('zonfeld', 1): 1,\n",
              " ('derek', 1): 47,\n",
              " ('jacobi', 1): 7,\n",
              " ('publisher', 1): 6,\n",
              " ('towney', 1): 1,\n",
              " ('actorsbr', 1): 22,\n",
              " ('presented', 1): 140,\n",
              " ('flashback', 1): 205,\n",
              " ('within', 1): 337,\n",
              " ('fill', 1): 152,\n",
              " ('solve', 1): 57,\n",
              " ('immediate', 1): 25,\n",
              " ('mystery', 1): 282,\n",
              " ('attempted', 1): 81,\n",
              " ('murder', 1): 458,\n",
              " ('morlar', 1): 1,\n",
              " ('writer', 1): 652,\n",
              " ('killer', 1): 680,\n",
              " ('disposition', 1): 5,\n",
              " ('till', 1): 76,\n",
              " ('piece', 1): 868,\n",
              " ('visual', 1): 162,\n",
              " ('detective', 1): 118,\n",
              " ('english', 1): 309,\n",
              " ('sidekick', 1): 60,\n",
              " ('predictable', 1): 492,\n",
              " ('became', 1): 232,\n",
              " ('quickly', 1): 219,\n",
              " ('obvious', 1): 500,\n",
              " ('identity', 1): 70,\n",
              " ('wouldbe', 1): 16,\n",
              " ('murdererbr', 1): 1,\n",
              " ('went', 1): 677,\n",
              " ('spoilt', 1): 7,\n",
              " ('fifteen', 1): 64,\n",
              " ('clue', 1): 157,\n",
              " ('samson', 1): 5,\n",
              " ('delilah', 1): 3,\n",
              " ('1949', 1): 5,\n",
              " ('illustrious', 1): 6,\n",
              " ('cecil', 1): 11,\n",
              " ('b', 1): 325,\n",
              " ('de', 1): 192,\n",
              " ('mille', 1): 1,\n",
              " ('plain', 1): 366,\n",
              " ('stupid', 1): 1172,\n",
              " ('hundred', 1): 163,\n",
              " ('morlars', 1): 1,\n",
              " ('rampaging', 1): 6,\n",
              " ('stopped', 1): 111,\n",
              " ('absolutelybr', 1): 1,\n",
              " ('shame', 1): 291,\n",
              " ('actually', 1): 2013,\n",
              " ('needed', 1): 317,\n",
              " ('moneybr', 1): 36,\n",
              " ('spend', 1): 240,\n",
              " ('mentioned', 1): 253,\n",
              " ('otherwise', 1): 329,\n",
              " ('bother', 1): 267,\n",
              " ('10', 1): 816,\n",
              " ('10ish', 1): 4,\n",
              " ('filmbr', 1): 336,\n",
              " ('complete', 1): 462,\n",
              " ('buff', 1): 73,\n",
              " ('shockingly', 1): 30,\n",
              " ('whoever', 1): 120,\n",
              " ('produced', 1): 253,\n",
              " ('although', 1): 792,\n",
              " ('according', 1): 103,\n",
              " ('imdb', 1): 315,\n",
              " ('albeit', 1): 49,\n",
              " ('havent', 1): 290,\n",
              " ('muchbr', 1): 47,\n",
              " ('say', 1): 2768,\n",
              " ('love', 1): 1751,\n",
              " ('od', 1): 7,\n",
              " ('14', 1): 42,\n",
              " ('epic', 1): 117,\n",
              " ('date', 1): 151,\n",
              " ('meet', 1): 419,\n",
              " ('spartan', 1): 23,\n",
              " ('teen', 1): 231,\n",
              " ('making', 1): 1093,\n",
              " ('superhero', 1): 56,\n",
              " ('eleventh', 1): 4,\n",
              " ('series', 1): 860,\n",
              " ('single', 1): 370,\n",
              " ('handily', 1): 3,\n",
              " ('ruined', 1): 143,\n",
              " ('parody', 1): 127,\n",
              " ('ill', 1): 493,\n",
              " ('admit', 1): 256,\n",
              " ('soft', 1): 110,\n",
              " ('classic', 1): 515,\n",
              " ('airplane', 1): 58,\n",
              " ('milked', 1): 9,\n",
              " ('franchise', 1): 69,\n",
              " ('gag', 1): 179,\n",
              " ('mile', 1): 154,\n",
              " ('temp', 1): 7,\n",
              " ('incredibly', 1): 317,\n",
              " ('funny', 1): 1664,\n",
              " ('massive', 1): 103,\n",
              " ('sellout', 1): 7,\n",
              " ('leslie', 1): 51,\n",
              " ('neilsonbr', 1): 3,\n",
              " ('need', 1): 1112,\n",
              " ('money', 1): 1155,\n",
              " ('wither', 1): 3,\n",
              " ('intends', 1): 13,\n",
              " ('ship', 1): 258,\n",
              " ('capitan', 1): 6,\n",
              " ('bringing', 1): 65,\n",
              " ('hell', 1): 582,\n",
              " ('he', 1): 1167,\n",
              " ('helping', 1): 57,\n",
              " ('feel', 1): 1422,\n",
              " ('sorry', 1): 520,\n",
              " ('decent', 1): 683,\n",
              " ('drake', 1): 54,\n",
              " ('bell', 1): 46,\n",
              " ('immense', 1): 14,\n",
              " ('amount', 1): 223,\n",
              " ('embarrassment', 1): 57,\n",
              " ('largest', 1): 17,\n",
              " ('torture', 1): 183,\n",
              " ('forced', 1): 316,\n",
              " ('sit', 1): 359,\n",
              " ('90', 1): 302,\n",
              " ('laughless', 1): 8,\n",
              " ('bile', 1): 3,\n",
              " ('funnier', 1): 77,\n",
              " ('herpesbr', 1): 3,\n",
              " ('spoofing', 1): 12,\n",
              " ('horror', 1): 1594,\n",
              " ('3', 1): 707,\n",
              " ('4', 1): 465,\n",
              " ('producer', 1): 422,\n",
              " ('david', 1): 269,\n",
              " ('zucker', 1): 6,\n",
              " ('satirical', 1): 21,\n",
              " ('sight', 1): 116,\n",
              " ('anarchic', 1): 9,\n",
              " ('comedy', 1): 1305,\n",
              " ('lampooning', 1): 8,\n",
              " ('spiderman', 1): 32,\n",
              " ('xmen', 1): 17,\n",
              " ('superman', 1): 130,\n",
              " ('returnsbr', 1): 6,\n",
              " ('bitten', 1): 39,\n",
              " ('genetically', 1): 9,\n",
              " ('altered', 1): 59,\n",
              " ('dragonfly', 1): 9,\n",
              " ('highschool', 1): 28,\n",
              " ('outcast', 1): 14,\n",
              " ('rick', 1): 48,\n",
              " ('riker', 1): 3,\n",
              " ('begin', 1): 560,\n",
              " ('experience', 1): 361,\n",
              " ('startling', 1): 20,\n",
              " ('transformation', 1): 32,\n",
              " ('strong', 1): 218,\n",
              " ('steel', 1): 39,\n",
              " ('posse', 1): 69,\n",
              " ('strength', 1): 84,\n",
              " ('ten', 1): 341,\n",
              " ('men', 1): 676,\n",
              " ('determined', 1): 49,\n",
              " ('newfound', 1): 4,\n",
              " ('fight', 1): 619,\n",
              " ('crime', 1): 266,\n",
              " ('creates', 1): 47,\n",
              " ('costume', 1): 229,\n",
              " ('assumes', 1): 21,\n",
              " ('fearless', 1): 7,\n",
              " ('fighter', 1): 92,\n",
              " ('dedicated', 1): 30,\n",
              " ('keeping', 1): 91,\n",
              " ('safe', 1): 87,\n",
              " ('lawabiding', 1): 7,\n",
              " ('citizensbr', 1): 5,\n",
              " ('nemesis', 1): 24,\n",
              " ('lou', 1): 40,\n",
              " ('lander', 1): 8,\n",
              " ('christopher', 1): 130,\n",
              " ('mcdonald', 1): 5,\n",
              " ('caught', 1): 195,\n",
              " ('middle', 1): 334,\n",
              " ('experiment', 1): 145,\n",
              " ('horribly', 1): 151,\n",
              " ('awry', 1): 16,\n",
              " ('develops', 1): 33,\n",
              " ('leech', 1): 8,\n",
              " ('force', 1): 273,\n",
              " ('villainous', 1): 19,\n",
              " ('hourglass', 1): 7,\n",
              " ('intent', 1): 64,\n",
              " ('achieving', 1): 6,\n",
              " ('immortality', 1): 8,\n",
              " ('gather', 1): 27,\n",
              " ('possible', 1): 436,\n",
              " ('noble', 1): 25,\n",
              " ('archenemy', 1): 3,\n",
              " ('realize', 1): 248,\n",
              " ('destiny', 1): 17,\n",
              " ('hero', 1): 525,\n",
              " ('craig', 1): 28,\n",
              " ('mazin', 1): 4,\n",
              " ('writes', 1): 27,\n",
              " ('directs', 1): 29,\n",
              " ('lowflying', 1): 3,\n",
              " ('spoofbr', 1): 6,\n",
              " ('featuring', 1): 94,\n",
              " ('tracy', 1): 36,\n",
              " ('morgan', 1): 61,\n",
              " ('pamela', 1): 29,\n",
              " ('anderson', 1): 55,\n",
              " ('nielsen', 1): 24,\n",
              " ('marion', 1): 32,\n",
              " ('ross', 1): 33,\n",
              " ('jeffrey', 1): 46,\n",
              " ('tambor', 1): 7,\n",
              " ('regina', 1): 8,\n",
              " ('hallbr', 1): 4,\n",
              " ('may', 1): 1103,\n",
              " ...}"
            ]
          },
          "metadata": {},
          "execution_count": 22
        }
      ],
      "source": [
        "## Run this cell to get an idea about the corpus of words and their occurrence along with labels. \n",
        "## In this, we are computing the frequency of occurrence of word given that a review is 'positive'.\n",
        "## Similarly, we also compute the frequence of occurence of word given that a review is 'negative'.\n",
        "freqs"
      ]
    },
    {
      "cell_type": "markdown",
      "id": "759c24bc",
      "metadata": {
        "id": "759c24bc"
      },
      "source": [
        "## Q4. Training the Naive Bayes Model: (20 points)\n",
        "\n",
        "Now we are in the training phase of the Naive Bayes algorithm. In this cell, take a look at the ways to calculate the log likelihood and log prior values as these are important for testing in the next few cells. \n",
        "\n",
        "Also calculate the frequency of occurrence of words where the output is negative. In the same way, calculate the word frequency count using the above functions in order to compute the log likelihood.\n",
        "\n",
        "Return the logprior and loglikelihood output by the model from this function. "
      ]
    },
    {
      "cell_type": "code",
      "execution_count": 23,
      "id": "a7f280e3",
      "metadata": {
        "id": "a7f280e3"
      },
      "outputs": [],
      "source": [
        "def train_naive_bayes(freqs, train_x, train_y):\n",
        "    '''\n",
        "    Input:\n",
        "        freqs: dictionary from (word, label) to how often the word appears\n",
        "        train_x: a list of reviews\n",
        "        train_y: a list of labels correponding to the reviews (0,1)\n",
        "    Output:\n",
        "        logprior: the log prior. (equation 3 above)\n",
        "        loglikelihood: the log likelihood of you Naive bayes equation. (equation 6 above)\n",
        "    '''\n",
        "    loglikelihood = {}\n",
        "    logprior = 0\n",
        "\n",
        "\n",
        "    # calculate V, the number of unique words in the vocabulary\n",
        "    vocab = set([pair[0] for pair in freqs.keys()])\n",
        "    V = len(vocab)\n",
        "\n",
        "    # calculate num_pos and num_neg - the total number of positive and negative words for all documents\n",
        "    num_pos = num_neg = 0\n",
        "    for pair in freqs.keys():\n",
        "        # if the label is positive\n",
        "        if pair[1] == 0:\n",
        "\n",
        "            # Increment the number of positive words by the count for this (word, label) pair\n",
        "            num_pos += freqs[pair]\n",
        "\n",
        "        # else, the label is negative\n",
        "        else:\n",
        "\n",
        "            # increment the number of negative words by the count for this (word,label) pair\n",
        "            num_neg += freqs[pair]\n",
        "\n",
        "    # Calculate num_doc, the number of documents\n",
        "    num_doc = len(train_y)\n",
        "\n",
        "    # Calculate D_pos, the number of positive documents \n",
        "    pos_num_docs = (train_y == 0).sum()\n",
        "\n",
        "    # Calculate D_neg, the number of negative documents \n",
        "    neg_num_docs = (train_y == 1).sum()\n",
        "\n",
        "    # Calculate logprior\n",
        "    logprior = np.log(pos_num_docs/neg_num_docs)\n",
        "\n",
        "    # For each word in the vocabulary...\n",
        "    for word in vocab:\n",
        "        # get the positive and negative frequency of the word\n",
        "        freq_pos = find_occurrence(freqs, word , 0)\n",
        "        freq_neg = find_occurrence(freqs, word , 1)\n",
        "\n",
        "        # calculate the probability that each word is positive, and negative\n",
        "        p_w_pos = (freq_pos + 1) / (num_pos + V)\n",
        "        p_w_neg = (freq_neg + 1) / (num_neg + V)\n",
        "\n",
        "        # calculate the log likelihood of the word\n",
        "        loglikelihood[word] = np.log(p_w_pos/p_w_neg)\n",
        "\n",
        "\n",
        "    return logprior, loglikelihood"
      ]
    },
    {
      "cell_type": "code",
      "execution_count": 24,
      "id": "1561d892",
      "metadata": {
        "id": "1561d892",
        "colab": {
          "base_uri": "https://localhost:8080/"
        },
        "outputId": "4e391068-4405-47ff-bed5-bce589b15dea"
      },
      "outputs": [
        {
          "output_type": "stream",
          "name": "stdout",
          "text": [
            "0.0\n",
            "91988\n"
          ]
        }
      ],
      "source": [
        "# You do not have to input any code in this cell, but it is relevant to grading, so please do not change anything\n",
        "logprior, loglikelihood = train_naive_bayes(freqs, X_train, y_train)\n",
        "print(logprior)\n",
        "print(len(loglikelihood))"
      ]
    },
    {
      "cell_type": "markdown",
      "id": "19d9c882",
      "metadata": {
        "id": "19d9c882"
      },
      "source": [
        "### Expected Output \n",
        "\n",
        "0.0 <br>\n",
        "91425"
      ]
    },
    {
      "cell_type": "markdown",
      "id": "78b51303",
      "metadata": {
        "id": "78b51303"
      },
      "source": [
        "## Q5. Implementing Naive Bayes Predict Function: (10 points)\n",
        "\n",
        "It is now time to make our prediction as to whether a given review is negative or positive respectively. \n",
        "\n",
        "After adding the log likelihood values, ensure that the output is 1 (negative) if the sum of the log likelihood value is greater than 0 and 0 (positive) if the sum of the log likelihood is less than or equal to 0. "
      ]
    },
    {
      "cell_type": "code",
      "execution_count": 25,
      "id": "b692c2f9",
      "metadata": {
        "id": "b692c2f9"
      },
      "outputs": [],
      "source": [
        "# TASK 4 CELL\n",
        "\n",
        "def naive_bayes_predict(review, logprior, loglikelihood):\n",
        "    '''\n",
        "    Params:\n",
        "        review: a string\n",
        "        logprior: a number\n",
        "        loglikelihood: a dictionary of words mapping to numbers\n",
        "    Return:\n",
        "        total_prob: the sum of all the loglikelihoods of each word in the review (if found in the dictionary) + logprior (a number)\n",
        "\n",
        "    '''\n",
        "    \n",
        "      # process the review to get a list of words\n",
        "    word_l = clean_review(review)\n",
        "\n",
        "    # initialize probability to zero\n",
        "    total_prob = 0\n",
        "\n",
        "    # add the logprior\n",
        "    total_prob += logprior\n",
        "\n",
        "    for word in word_l:\n",
        "\n",
        "        # check if the word exists in the loglikelihood dictionary\n",
        "        if word in loglikelihood:\n",
        "            # add the log likelihood of that word to the probability\n",
        "            total_prob += loglikelihood[word]\n",
        "\n",
        "    return 1 if total_prob < 0 else 0"
      ]
    },
    {
      "cell_type": "code",
      "execution_count": 26,
      "id": "4b170333",
      "metadata": {
        "id": "4b170333",
        "outputId": "cc81d649-b2ff-4f94-a5a6-207735c8b2e0",
        "colab": {
          "base_uri": "https://localhost:8080/"
        }
      },
      "outputs": [
        {
          "output_type": "stream",
          "name": "stdout",
          "text": [
            "The expected output is 1\n"
          ]
        }
      ],
      "source": [
        "# You do not have to input any code in this cell, but it is relevant to grading, so please do not change anything\n",
        "\n",
        "# Experiment with your own review.\n",
        "my_review = \"I thought this series was going to be another fun, action series with some dynamic plots and great performances. I was wrong. While I like Jamie Denton, this show is hardly worth watching at all, unless you enjoy watching some people brutalized and the actions of the agents supposedly warranted under the theme of national security. The show is great propaganda for the current government, and spews out jingoism as though we talk that way every day. After a couple of episodes, it was boring the hell out of me, and I started watching reruns of House Invaders on BBCAmerica instead. Rather watch CSI and Without a Trace, without a doubt.\"\n",
        "p = naive_bayes_predict(my_review, logprior, loglikelihood)\n",
        "print('The expected output is', p)"
      ]
    },
    {
      "cell_type": "markdown",
      "id": "6242708f",
      "metadata": {
        "id": "6242708f"
      },
      "source": [
        "### Expected Output :\n",
        "The expected output is 1"
      ]
    },
    {
      "cell_type": "markdown",
      "id": "7c4eeb71",
      "metadata": {
        "id": "7c4eeb71"
      },
      "source": [
        "## Q6. Implementing Naive Bayes Test function: (10 points)\n",
        "\n",
        "In this function, implement the previous functions such as naive_bayes_predict to get the predictions for the test set. \n",
        "\n",
        "In addition to this, the function should return the total number of reviews that it correctly classified as 'positive' or 'negative'. "
      ]
    },
    {
      "cell_type": "code",
      "execution_count": 27,
      "id": "66a511e7",
      "metadata": {
        "id": "66a511e7"
      },
      "outputs": [],
      "source": [
        "# UNQ_C6 (UNIQUE CELL IDENTIFIER, DO NOT EDIT)\n",
        "def test_naive_bayes(test_x, test_y, logprior, loglikelihood):\n",
        "    \"\"\"\n",
        "    Input:\n",
        "        test_x: A list of reviews\n",
        "        test_y: the corresponding labels for the list of reviews\n",
        "        logprior: the logprior\n",
        "        loglikelihood: a dictionary with the loglikelihoods for each word\n",
        "    Output:\n",
        "        accuracy: (# of reviews classified correctly)/(total # of reviews)\n",
        "    \"\"\"\n",
        "    accuracy = 0  \n",
        "    \n",
        "    y_hats = []\n",
        "    for review in test_x:\n",
        "        # if the prediction is > 0\n",
        "        if naive_bayes_predict(review, logprior, loglikelihood) > 0:\n",
        "            # the predicted class is 1\n",
        "            y_hat_i = 1\n",
        "        else:\n",
        "            # otherwise the predicted class is 0\n",
        "            y_hat_i = 0\n",
        "\n",
        "        # append the predicted class to the list y_hats\n",
        "        y_hats.append(y_hat_i)\n",
        "\n",
        "    # error is the average of the absolute values of the differences between y_hats and test_y\n",
        "    error = np.mean(np.absolute(y_hats - test_y))\n",
        "\n",
        "    accuracy = 1 - error\n",
        "\n",
        "    return accuracy"
      ]
    },
    {
      "cell_type": "code",
      "execution_count": 28,
      "id": "8a9c5d9d",
      "metadata": {
        "id": "8a9c5d9d",
        "colab": {
          "base_uri": "https://localhost:8080/"
        },
        "outputId": "c019c4d4-d1b8-4717-9c07-20512b95c1d2"
      },
      "outputs": [
        {
          "output_type": "stream",
          "name": "stdout",
          "text": [
            "If you like original gut wrenching laughter you will like this movie. If you are young or old then y -> 0.00\n",
            "What a waste of talent. A very poor, semi-coherent, script cripples this film. Rather unimaginative  -> 1.00\n",
            "I have seen this film at least 100 times and I am still excited by it, the acting is perfect and the -> 0.00\n",
            "Cheap, amateurish, unimaginative, exploitative... but don't think it'll have redeeming amusement val -> 1.00\n"
          ]
        }
      ],
      "source": [
        "# For grading purpose only\n",
        "# You do not have to input any code in this cell, but it is relevant to grading, so please do not change anything\n",
        "\n",
        "# Run this cell to test your function\n",
        "\n",
        "for review in [\"If you like original gut wrenching laughter you will like this movie. If you are young or old then you will love this movie, hell even my mom liked it.<br /><br />Great Camp!!!\",\n",
        "                \"What a waste of talent. A very poor, semi-coherent, script cripples this film. Rather unimaginative direction, too. Some VERY faint echoes of Fargo here, but it just doesn't come off.\",\n",
        "                \"I have seen this film at least 100 times and I am still excited by it, the acting is perfect and the romance between Joe and Jean keeps me on the edge of my seat, plus I still think Bryan Brown is the tops. Brilliant Film.\",\n",
        "                \"Cheap, amateurish, unimaginative, exploitative... but don't think it'll have redeeming amusement value. About as unentertaining, uninstructive and just plain dull as a film can be.\"]:\n",
        "    p = naive_bayes_predict(review, logprior, loglikelihood)\n",
        "    print(f'{review[:100]} -> {p:.2f}')\n",
        "    "
      ]
    },
    {
      "cell_type": "markdown",
      "id": "43e2ef98",
      "metadata": {
        "id": "43e2ef98"
      },
      "source": [
        "### Expected Output :\n",
        "\n",
        "If you like original gut wrenching laughter you will like this movie. If you are young or old then y -> 0.00 <br>\n",
        "What a waste of talent. A very poor, semi-coherent, script cripples this film. Rather unimaginative  -> 1.00<br>\n",
        "I have seen this film at least 100 times and I am still excited by it, the acting is perfect and the -> 0.00 <br>\n",
        "Cheap, amateurish, unimaginative, exploitative... but don't think it'll have redeeming amusement val -> 1.00\n",
        "\n"
      ]
    },
    {
      "cell_type": "code",
      "execution_count": 29,
      "id": "216fa97a",
      "metadata": {
        "id": "216fa97a",
        "colab": {
          "base_uri": "https://localhost:8080/"
        },
        "outputId": "845bbd29-21d7-4c2d-897a-cb0c9388c92b"
      },
      "outputs": [
        {
          "output_type": "execute_result",
          "data": {
            "text/plain": [
              "1"
            ]
          },
          "metadata": {},
          "execution_count": 29
        }
      ],
      "source": [
        "# Feel free to check the sentiment of your own review below\n",
        "my_review = 'The moview was very boring, I wanted to leave in the middle'\n",
        "naive_bayes_predict(my_review, logprior, loglikelihood)"
      ]
    },
    {
      "cell_type": "markdown",
      "id": "8a45e4f0",
      "metadata": {
        "id": "8a45e4f0"
      },
      "source": [
        "### Expected Output :\n",
        "1"
      ]
    },
    {
      "cell_type": "markdown",
      "source": [
        "# Q7. Evaluate the accuracy (10 Points)\n",
        "1. Split your data into training and test sets using random selection. Set the seed as parameter of the function so that user can select a different training and test set by changin seed.\n",
        "\n",
        "2. Calculate model paramters with training set.\n",
        "\n",
        "3. Print confusion matrix for training and test set.\n",
        "\n",
        "4. Examine False Positive and False Negative cases and provide reasoning why they get misclassified."
      ],
      "metadata": {
        "id": "mAIkM4aCC1H7"
      },
      "id": "mAIkM4aCC1H7"
    },
    {
      "cell_type": "markdown",
      "source": [
        "# 7.1"
      ],
      "metadata": {
        "id": "rPEnfzlfNRSN"
      },
      "id": "rPEnfzlfNRSN"
    },
    {
      "cell_type": "code",
      "source": [
        "from sklearn.utils import shuffle\n",
        "\n",
        "# using shuffle from sklearn to shuffle the dataset and also setting random seed \n",
        "\n",
        "df_shuffled = shuffle(df_upsampled, random_state = 42)\n",
        "\n",
        "## Considering 10000 positive & negative data points\n",
        "negative_data_points_train = df_shuffled[df_shuffled['sentiment'] == 'negative'].iloc[:10000]\n",
        "positive_data_points_train = df_shuffled[df_shuffled['sentiment'] == 'positive'].iloc[:10000]\n",
        "\n",
        "## Considering the remaining data points for test\n",
        "negative_data_points_test = df_shuffled[df_shuffled['sentiment'] == 'negative'].iloc[10000:]\n",
        "positive_data_points_test = df_shuffled[df_shuffled['sentiment'] == 'positive'].iloc[10000:]\n",
        "\n",
        "\n",
        "X_train = pd.concat([negative_data_points_train['review'], positive_data_points_train['review']])\n",
        "y_train = pd.concat([negative_data_points_train['sentiment'], positive_data_points_train['sentiment']])\n",
        "\n",
        "X_test = pd.concat([negative_data_points_test['review'], positive_data_points_test['review']])\n",
        "y_test = pd.concat([negative_data_points_test['sentiment'], positive_data_points_test['sentiment']])\n",
        "\n",
        "output_map = {'positive': 0, 'negative': 1}\n",
        "y_train = y_train.map(output_map)\n",
        "y_test = y_test.map(output_map)"
      ],
      "metadata": {
        "id": "cm181WATNBy6"
      },
      "id": "cm181WATNBy6",
      "execution_count": 30,
      "outputs": []
    },
    {
      "cell_type": "markdown",
      "source": [
        "# 7.2"
      ],
      "metadata": {
        "id": "VaFRmFTWPUHg"
      },
      "id": "VaFRmFTWPUHg"
    },
    {
      "cell_type": "code",
      "source": [
        "freqs_nb = review_counter({}, X_train, y_train)"
      ],
      "metadata": {
        "id": "fLfAgTWxU4js"
      },
      "id": "fLfAgTWxU4js",
      "execution_count": 31,
      "outputs": []
    },
    {
      "cell_type": "code",
      "source": [
        "nb = train_naive_bayes(freqs_nb, X_train, y_train)"
      ],
      "metadata": {
        "id": "LxewtRZFVhHZ"
      },
      "id": "LxewtRZFVhHZ",
      "execution_count": 32,
      "outputs": []
    },
    {
      "cell_type": "markdown",
      "source": [
        "# 7.3"
      ],
      "metadata": {
        "id": "wCmxD_7AV6s8"
      },
      "id": "wCmxD_7AV6s8"
    },
    {
      "cell_type": "code",
      "source": [
        "# getting predictions for training set\n",
        "y_hat = []\n",
        "for i in X_train:\n",
        "    y_hat.append(naive_bayes_predict(i, nb[0], nb[1]))"
      ],
      "metadata": {
        "id": "4fFRyy0RWoz8"
      },
      "id": "4fFRyy0RWoz8",
      "execution_count": 35,
      "outputs": []
    },
    {
      "cell_type": "code",
      "source": [
        "# confusion matrix for training set\n",
        "from sklearn.metrics import confusion_matrix\n",
        "cm_train = confusion_matrix(y_train, y_hat)"
      ],
      "metadata": {
        "id": "h4iPQodpW9Yp"
      },
      "id": "h4iPQodpW9Yp",
      "execution_count": 36,
      "outputs": []
    },
    {
      "cell_type": "code",
      "source": [
        "print(cm_train)"
      ],
      "metadata": {
        "colab": {
          "base_uri": "https://localhost:8080/"
        },
        "id": "AuEbkSwBXFPa",
        "outputId": "6a5893b2-75cb-4b5b-b96a-060850f4ed67"
      },
      "id": "AuEbkSwBXFPa",
      "execution_count": 37,
      "outputs": [
        {
          "output_type": "stream",
          "name": "stdout",
          "text": [
            "[[9206  794]\n",
            " [ 356 9644]]\n"
          ]
        }
      ]
    },
    {
      "cell_type": "code",
      "source": [
        "# training set accuracy\n",
        " \n",
        "print(\" Training set accuracy : \", test_naive_bayes(X_train, y_train, nb[0], nb[1])* 100)"
      ],
      "metadata": {
        "colab": {
          "base_uri": "https://localhost:8080/"
        },
        "id": "Kw63TvALXJ0d",
        "outputId": "959f5158-cafb-40a9-e130-339f8b5a16d2"
      },
      "id": "Kw63TvALXJ0d",
      "execution_count": 38,
      "outputs": [
        {
          "output_type": "stream",
          "name": "stdout",
          "text": [
            " Training set accuracy :  94.25\n"
          ]
        }
      ]
    },
    {
      "cell_type": "code",
      "source": [
        "# getting predictions for testing set\n",
        "y_hat_test = []\n",
        "for i in X_test:\n",
        "    y_hat_test.append(naive_bayes_predict(i, nb[0], nb[1]))"
      ],
      "metadata": {
        "id": "cDDDMti2Ynsy"
      },
      "id": "cDDDMti2Ynsy",
      "execution_count": 39,
      "outputs": []
    },
    {
      "cell_type": "code",
      "source": [
        "cm_test = confusion_matrix(y_test, y_hat_test)"
      ],
      "metadata": {
        "id": "y1hr1eQDZBs9"
      },
      "id": "y1hr1eQDZBs9",
      "execution_count": 40,
      "outputs": []
    },
    {
      "cell_type": "code",
      "source": [
        "print(cm_test)"
      ],
      "metadata": {
        "colab": {
          "base_uri": "https://localhost:8080/"
        },
        "id": "036xQ4IIZzfm",
        "outputId": "a8871b47-881e-4b83-c57a-67202fea0a59"
      },
      "id": "036xQ4IIZzfm",
      "execution_count": 41,
      "outputs": [
        {
          "output_type": "stream",
          "name": "stdout",
          "text": [
            "[[2091  383]\n",
            " [ 214 2260]]\n"
          ]
        }
      ]
    },
    {
      "cell_type": "code",
      "source": [
        "# test set accuracy\n",
        " \n",
        "print(\" Test set accuracy : \", test_naive_bayes(X_test, y_test, nb[0], nb[1])* 100)"
      ],
      "metadata": {
        "colab": {
          "base_uri": "https://localhost:8080/"
        },
        "id": "rSq-BcSWZ5Vs",
        "outputId": "4640e868-9088-42e8-8991-2917d81ede49"
      },
      "id": "rSq-BcSWZ5Vs",
      "execution_count": 42,
      "outputs": [
        {
          "output_type": "stream",
          "name": "stdout",
          "text": [
            " Test set accuracy :  87.93451899757477\n"
          ]
        }
      ]
    },
    {
      "cell_type": "markdown",
      "source": [
        "# 7.4"
      ],
      "metadata": {
        "id": "sC2wcI_GdmGM"
      },
      "id": "sC2wcI_GdmGM"
    },
    {
      "cell_type": "code",
      "source": [
        "data = pd.DataFrame()\n",
        "data['test'] = X_test"
      ],
      "metadata": {
        "id": "TMW_s9mNmxCK"
      },
      "id": "TMW_s9mNmxCK",
      "execution_count": null,
      "outputs": []
    },
    {
      "cell_type": "code",
      "source": [
        "data = data.reset_index()\n",
        "y_t = y_test.reset_index()"
      ],
      "metadata": {
        "id": "slxWCl9bm2cT"
      },
      "id": "slxWCl9bm2cT",
      "execution_count": null,
      "outputs": []
    },
    {
      "cell_type": "code",
      "source": [
        "data['y_test'] = y_t['sentiment']\n",
        "data['y_predict'] = y_hat_test"
      ],
      "metadata": {
        "id": "AdPogjQsm94m"
      },
      "id": "AdPogjQsm94m",
      "execution_count": null,
      "outputs": []
    },
    {
      "cell_type": "code",
      "source": [
        "data.to_csv('analyzes.csv')"
      ],
      "metadata": {
        "id": "r1F3XtSbnIMr"
      },
      "id": "r1F3XtSbnIMr",
      "execution_count": null,
      "outputs": []
    },
    {
      "cell_type": "code",
      "source": [
        "data"
      ],
      "metadata": {
        "colab": {
          "base_uri": "https://localhost:8080/",
          "height": 423
        },
        "id": "x2c2hDO5nNeN",
        "outputId": "9e0311d3-b431-4107-ff50-208e85d2934b"
      },
      "id": "x2c2hDO5nNeN",
      "execution_count": null,
      "outputs": [
        {
          "output_type": "execute_result",
          "data": {
            "text/plain": [
              "      index                                               test  y_test  \\\n",
              "0       666  The problem is the role of the characters in t...       1   \n",
              "1      5851  I had a lot of expectations from this movie an...       1   \n",
              "2      2411  At Beaverview Cheerleading Camp, the goody-goo...       1   \n",
              "3     22158  Rachel, Jo, Hannah, Tina, Bradley and John are...       1   \n",
              "4     22263  \"Tales from the Crapper\" is gory, disgusting, ...       1   \n",
              "...     ...                                                ...     ...   \n",
              "4943   9432  This is a complex film that explores the effec...       0   \n",
              "4944  16959  It's amazing that from a good, though not wond...       0   \n",
              "4945   2266  This movie of 370 minutes was aired by the Ita...       0   \n",
              "4946  24469  I have been meaning to see this flick for the ...       0   \n",
              "4947  18899  I saw this movie many years ago, have tried to...       0   \n",
              "\n",
              "      y_predict  \n",
              "0             0  \n",
              "1             1  \n",
              "2             1  \n",
              "3             1  \n",
              "4             1  \n",
              "...         ...  \n",
              "4943          0  \n",
              "4944          0  \n",
              "4945          0  \n",
              "4946          0  \n",
              "4947          0  \n",
              "\n",
              "[4948 rows x 4 columns]"
            ],
            "text/html": [
              "\n",
              "  <div id=\"df-a225f235-47e7-46a3-86dd-2745605b2ba6\">\n",
              "    <div class=\"colab-df-container\">\n",
              "      <div>\n",
              "<style scoped>\n",
              "    .dataframe tbody tr th:only-of-type {\n",
              "        vertical-align: middle;\n",
              "    }\n",
              "\n",
              "    .dataframe tbody tr th {\n",
              "        vertical-align: top;\n",
              "    }\n",
              "\n",
              "    .dataframe thead th {\n",
              "        text-align: right;\n",
              "    }\n",
              "</style>\n",
              "<table border=\"1\" class=\"dataframe\">\n",
              "  <thead>\n",
              "    <tr style=\"text-align: right;\">\n",
              "      <th></th>\n",
              "      <th>index</th>\n",
              "      <th>test</th>\n",
              "      <th>y_test</th>\n",
              "      <th>y_predict</th>\n",
              "    </tr>\n",
              "  </thead>\n",
              "  <tbody>\n",
              "    <tr>\n",
              "      <th>0</th>\n",
              "      <td>666</td>\n",
              "      <td>The problem is the role of the characters in t...</td>\n",
              "      <td>1</td>\n",
              "      <td>0</td>\n",
              "    </tr>\n",
              "    <tr>\n",
              "      <th>1</th>\n",
              "      <td>5851</td>\n",
              "      <td>I had a lot of expectations from this movie an...</td>\n",
              "      <td>1</td>\n",
              "      <td>1</td>\n",
              "    </tr>\n",
              "    <tr>\n",
              "      <th>2</th>\n",
              "      <td>2411</td>\n",
              "      <td>At Beaverview Cheerleading Camp, the goody-goo...</td>\n",
              "      <td>1</td>\n",
              "      <td>1</td>\n",
              "    </tr>\n",
              "    <tr>\n",
              "      <th>3</th>\n",
              "      <td>22158</td>\n",
              "      <td>Rachel, Jo, Hannah, Tina, Bradley and John are...</td>\n",
              "      <td>1</td>\n",
              "      <td>1</td>\n",
              "    </tr>\n",
              "    <tr>\n",
              "      <th>4</th>\n",
              "      <td>22263</td>\n",
              "      <td>\"Tales from the Crapper\" is gory, disgusting, ...</td>\n",
              "      <td>1</td>\n",
              "      <td>1</td>\n",
              "    </tr>\n",
              "    <tr>\n",
              "      <th>...</th>\n",
              "      <td>...</td>\n",
              "      <td>...</td>\n",
              "      <td>...</td>\n",
              "      <td>...</td>\n",
              "    </tr>\n",
              "    <tr>\n",
              "      <th>4943</th>\n",
              "      <td>9432</td>\n",
              "      <td>This is a complex film that explores the effec...</td>\n",
              "      <td>0</td>\n",
              "      <td>0</td>\n",
              "    </tr>\n",
              "    <tr>\n",
              "      <th>4944</th>\n",
              "      <td>16959</td>\n",
              "      <td>It's amazing that from a good, though not wond...</td>\n",
              "      <td>0</td>\n",
              "      <td>0</td>\n",
              "    </tr>\n",
              "    <tr>\n",
              "      <th>4945</th>\n",
              "      <td>2266</td>\n",
              "      <td>This movie of 370 minutes was aired by the Ita...</td>\n",
              "      <td>0</td>\n",
              "      <td>0</td>\n",
              "    </tr>\n",
              "    <tr>\n",
              "      <th>4946</th>\n",
              "      <td>24469</td>\n",
              "      <td>I have been meaning to see this flick for the ...</td>\n",
              "      <td>0</td>\n",
              "      <td>0</td>\n",
              "    </tr>\n",
              "    <tr>\n",
              "      <th>4947</th>\n",
              "      <td>18899</td>\n",
              "      <td>I saw this movie many years ago, have tried to...</td>\n",
              "      <td>0</td>\n",
              "      <td>0</td>\n",
              "    </tr>\n",
              "  </tbody>\n",
              "</table>\n",
              "<p>4948 rows × 4 columns</p>\n",
              "</div>\n",
              "      <button class=\"colab-df-convert\" onclick=\"convertToInteractive('df-a225f235-47e7-46a3-86dd-2745605b2ba6')\"\n",
              "              title=\"Convert this dataframe to an interactive table.\"\n",
              "              style=\"display:none;\">\n",
              "        \n",
              "  <svg xmlns=\"http://www.w3.org/2000/svg\" height=\"24px\"viewBox=\"0 0 24 24\"\n",
              "       width=\"24px\">\n",
              "    <path d=\"M0 0h24v24H0V0z\" fill=\"none\"/>\n",
              "    <path d=\"M18.56 5.44l.94 2.06.94-2.06 2.06-.94-2.06-.94-.94-2.06-.94 2.06-2.06.94zm-11 1L8.5 8.5l.94-2.06 2.06-.94-2.06-.94L8.5 2.5l-.94 2.06-2.06.94zm10 10l.94 2.06.94-2.06 2.06-.94-2.06-.94-.94-2.06-.94 2.06-2.06.94z\"/><path d=\"M17.41 7.96l-1.37-1.37c-.4-.4-.92-.59-1.43-.59-.52 0-1.04.2-1.43.59L10.3 9.45l-7.72 7.72c-.78.78-.78 2.05 0 2.83L4 21.41c.39.39.9.59 1.41.59.51 0 1.02-.2 1.41-.59l7.78-7.78 2.81-2.81c.8-.78.8-2.07 0-2.86zM5.41 20L4 18.59l7.72-7.72 1.47 1.35L5.41 20z\"/>\n",
              "  </svg>\n",
              "      </button>\n",
              "      \n",
              "  <style>\n",
              "    .colab-df-container {\n",
              "      display:flex;\n",
              "      flex-wrap:wrap;\n",
              "      gap: 12px;\n",
              "    }\n",
              "\n",
              "    .colab-df-convert {\n",
              "      background-color: #E8F0FE;\n",
              "      border: none;\n",
              "      border-radius: 50%;\n",
              "      cursor: pointer;\n",
              "      display: none;\n",
              "      fill: #1967D2;\n",
              "      height: 32px;\n",
              "      padding: 0 0 0 0;\n",
              "      width: 32px;\n",
              "    }\n",
              "\n",
              "    .colab-df-convert:hover {\n",
              "      background-color: #E2EBFA;\n",
              "      box-shadow: 0px 1px 2px rgba(60, 64, 67, 0.3), 0px 1px 3px 1px rgba(60, 64, 67, 0.15);\n",
              "      fill: #174EA6;\n",
              "    }\n",
              "\n",
              "    [theme=dark] .colab-df-convert {\n",
              "      background-color: #3B4455;\n",
              "      fill: #D2E3FC;\n",
              "    }\n",
              "\n",
              "    [theme=dark] .colab-df-convert:hover {\n",
              "      background-color: #434B5C;\n",
              "      box-shadow: 0px 1px 3px 1px rgba(0, 0, 0, 0.15);\n",
              "      filter: drop-shadow(0px 1px 2px rgba(0, 0, 0, 0.3));\n",
              "      fill: #FFFFFF;\n",
              "    }\n",
              "  </style>\n",
              "\n",
              "      <script>\n",
              "        const buttonEl =\n",
              "          document.querySelector('#df-a225f235-47e7-46a3-86dd-2745605b2ba6 button.colab-df-convert');\n",
              "        buttonEl.style.display =\n",
              "          google.colab.kernel.accessAllowed ? 'block' : 'none';\n",
              "\n",
              "        async function convertToInteractive(key) {\n",
              "          const element = document.querySelector('#df-a225f235-47e7-46a3-86dd-2745605b2ba6');\n",
              "          const dataTable =\n",
              "            await google.colab.kernel.invokeFunction('convertToInteractive',\n",
              "                                                     [key], {});\n",
              "          if (!dataTable) return;\n",
              "\n",
              "          const docLinkHtml = 'Like what you see? Visit the ' +\n",
              "            '<a target=\"_blank\" href=https://colab.research.google.com/notebooks/data_table.ipynb>data table notebook</a>'\n",
              "            + ' to learn more about interactive tables.';\n",
              "          element.innerHTML = '';\n",
              "          dataTable['output_type'] = 'display_data';\n",
              "          await google.colab.output.renderOutput(dataTable, element);\n",
              "          const docLink = document.createElement('div');\n",
              "          docLink.innerHTML = docLinkHtml;\n",
              "          element.appendChild(docLink);\n",
              "        }\n",
              "      </script>\n",
              "    </div>\n",
              "  </div>\n",
              "  "
            ]
          },
          "metadata": {},
          "execution_count": 50
        }
      ]
    },
    {
      "cell_type": "code",
      "source": [
        "false_positives = data[(data['y_test'] == 1) & (data['y_predict'] == 0)]\n",
        "\n",
        "print('False Positives:')\n",
        "print(false_positives)"
      ],
      "metadata": {
        "colab": {
          "base_uri": "https://localhost:8080/"
        },
        "id": "qMp9rfUXpMkK",
        "outputId": "2e6f8662-ed55-4f5b-beed-91945f6b843b"
      },
      "id": "qMp9rfUXpMkK",
      "execution_count": null,
      "outputs": [
        {
          "output_type": "stream",
          "name": "stdout",
          "text": [
            "False Positives:\n",
            "      index                                               test  y_test  \\\n",
            "0       666  The problem is the role of the characters in t...       1   \n",
            "31    12461  Final Score (an average of various classic cin...       1   \n",
            "34     5148  Even though he only made his debut film in Aus...       1   \n",
            "36     2359  Diana Guzman is an angry young woman. Survivin...       1   \n",
            "41     8440  Grieving couple move to a cabin on a mountain ...       1   \n",
            "...     ...                                                ...     ...   \n",
            "2432  11366  For those who never saw A CHORUS LINE onstage ...       1   \n",
            "2449  21239  POSSIBLE MINOR SPOILER<br /><br />It's not a t...       1   \n",
            "2460    734  I saw this movie only because Sophie Marceau. ...       1   \n",
            "2463  16683  Fine performances and art direction do not a g...       1   \n",
            "2464  12025  Being a huge street fighter fan and thoroughly...       1   \n",
            "\n",
            "      y_predict  \n",
            "0             0  \n",
            "31            0  \n",
            "34            0  \n",
            "36            0  \n",
            "41            0  \n",
            "...         ...  \n",
            "2432          0  \n",
            "2449          0  \n",
            "2460          0  \n",
            "2463          0  \n",
            "2464          0  \n",
            "\n",
            "[213 rows x 4 columns]\n"
          ]
        }
      ]
    },
    {
      "cell_type": "code",
      "source": [
        "false_negatives = data[(data['y_test'] == 0) & (data['y_predict'] == 1)]\n",
        "\n",
        "print('False Negatives:')\n",
        "print(false_negatives)"
      ],
      "metadata": {
        "colab": {
          "base_uri": "https://localhost:8080/"
        },
        "id": "zDq8RDoUpQEY",
        "outputId": "30b6f25b-ede7-4fc2-dc9c-7ba22b7cfab7"
      },
      "id": "zDq8RDoUpQEY",
      "execution_count": null,
      "outputs": [
        {
          "output_type": "stream",
          "name": "stdout",
          "text": [
            "False Negatives:\n",
            "      index                                               test  y_test  \\\n",
            "2481   7775  New guy at an armored car company gets talked ...       0   \n",
            "2482   1777  This is probably the only female Ninja movie e...       0   \n",
            "2486  19223  I love this movie. <br /><br />Yes, the main c...       0   \n",
            "2490  23531  I went into this movie after having read it wa...       0   \n",
            "2499  22143  Slaughter High starts like any other day at Do...       0   \n",
            "...     ...                                                ...     ...   \n",
            "4918  13101  I saw his movie in Dallas, Texas when it came ...       0   \n",
            "4919   2681  I'm disappointed that Reiser (who wrote the fi...       0   \n",
            "4927  14685  The critics are dumb. This movie is funny and ...       0   \n",
            "4933   7904  This is a top car flick (Its a work of art/ YE...       0   \n",
            "4941  19413  No, I'm not joking around. If you ever, EVER, ...       0   \n",
            "\n",
            "      y_predict  \n",
            "2481          1  \n",
            "2482          1  \n",
            "2486          1  \n",
            "2490          1  \n",
            "2499          1  \n",
            "...         ...  \n",
            "4918          1  \n",
            "4919          1  \n",
            "4927          1  \n",
            "4933          1  \n",
            "4941          1  \n",
            "\n",
            "[381 rows x 4 columns]\n"
          ]
        }
      ]
    },
    {
      "cell_type": "markdown",
      "source": [
        "# Reasoning"
      ],
      "metadata": {
        "id": "_wXaeAXPqGf1"
      },
      "id": "_wXaeAXPqGf1"
    },
    {
      "cell_type": "markdown",
      "source": [
        "1. Sarcastic writing is a technique for people to constructively communicate their unfavorable feelings. Because of this, sarcasm can readily fool sentiment analysis systems unless they are made explicitly to account for it.\n",
        "\n",
        "2. Negation is a technique for changing the polarity of words, phrases, and even entire sentences.   For instance, just the word that follows the negative word is included in the scope of the statement . Terms in the negation that are positive or negative change from their original meaning and acquire the opposite polarity."
      ],
      "metadata": {
        "id": "_hFxpwjorM5p"
      },
      "id": "_hFxpwjorM5p"
    },
    {
      "cell_type": "markdown",
      "source": [
        "# Q8. Modularize your classifier (10 points)\n",
        "1. Convert your code into a python module text_classifier.py\n",
        "\n",
        "2. The user should be able to launch the application on command prompt using python test_classifier.py command. The module will automatically load the model paramters from a local file of your choice and be ready to take the input from user on command prompt. The program will preprocess user input, tokenize and predict the class.\n",
        "\n",
        "3. Your module will take the input from user and output sentiment class in an indefinite loop. The output should printout the probabilities for each input token along with the final classification decision. Program will quit if user enters X.\n"
      ],
      "metadata": {
        "id": "XbzttYVnBo7W"
      },
      "id": "XbzttYVnBo7W"
    },
    {
      "cell_type": "code",
      "source": [],
      "metadata": {
        "id": "lKAQrnnbBnKe"
      },
      "id": "lKAQrnnbBnKe",
      "execution_count": null,
      "outputs": []
    },
    {
      "cell_type": "markdown",
      "id": "82e6e4d1",
      "metadata": {
        "id": "82e6e4d1"
      },
      "source": [
        "# Q9. Theory Questions: (10 points)\n",
        "\n",
        "1. Why is Laplace Smoothing or Additive Smoothing required while executing Naive Bayes operations, especially for text classification? Show how not having additive smoothing leads to bad outcomes by using an example of training and the test set. (10 points)\n",
        "\n",
        "\n",
        "2. Why are logarithmic values computed instead of only probability values in the Naive Bayes algorithm? (5 points)"
      ]
    },
    {
      "cell_type": "markdown",
      "source": [
        "# 9.1"
      ],
      "metadata": {
        "id": "Pm4eeufNRrwl"
      },
      "id": "Pm4eeufNRrwl"
    },
    {
      "cell_type": "markdown",
      "source": [
        "Laplace smoothing is necessary when implementing naive bayes, since some words in the input text may not be present in the training set. This can result in assigning the likelihood of such words as zero, which is not accurate. If the likelihood is considered zero, it can lead to the probability of the entire text becoming zero, which is also not correct.\n",
        "\n",
        "It solves this problem by increasing the zero probability values to a small positive number and decreasing other values proportionately, so that the sum remains at 1. This method is especially important for text categorization tasks, such as spam or ham email classification. Without laplace smoothing, it would not be possible to accurately categorize emails that contain words that are not present in the training set."
      ],
      "metadata": {
        "id": "NNOuus5jRv3k"
      },
      "id": "NNOuus5jRv3k"
    },
    {
      "cell_type": "code",
      "source": [
        "def train_naive_bayes_wls(freqs, train_x, train_y):\n",
        "    '''\n",
        "    Input:\n",
        "        freqs: dictionary from (word, label) to how often the word appears\n",
        "        train_x: a list of reviews\n",
        "        train_y: a list of labels correponding to the reviews (0,1)\n",
        "    Output:\n",
        "        logprior: the log prior. (equation 3 above)\n",
        "        loglikelihood: the log likelihood of you Naive bayes equation. (equation 6 above)\n",
        "    '''\n",
        "    loglikelihood = {}\n",
        "    logprior = 0\n",
        "\n",
        "\n",
        "    # calculate V, the number of unique words in the vocabulary\n",
        "    vocab = set([pair[0] for pair in freqs.keys()])\n",
        "    V = len(vocab)\n",
        "\n",
        "    # calculate num_pos and num_neg - the total number of positive and negative words for all documents\n",
        "    num_pos = num_neg = 0\n",
        "    for pair in freqs.keys():\n",
        "        # if the label is positive\n",
        "        if pair[1] == 0:\n",
        "\n",
        "            # Increment the number of positive words by the count for this (word, label) pair\n",
        "            num_pos += freqs[pair]\n",
        "\n",
        "        # else, the label is negative\n",
        "        else:\n",
        "\n",
        "            # increment the number of negative words by the count for this (word,label) pair\n",
        "            num_neg += freqs[pair]\n",
        "\n",
        "    # Calculate num_doc, the number of documents\n",
        "    num_doc = len(train_y)\n",
        "\n",
        "    # Calculate D_pos, the number of positive documents \n",
        "    pos_num_docs = (train_y == 0).sum()\n",
        "\n",
        "    # Calculate D_neg, the number of negative documents \n",
        "    neg_num_docs = (train_y == 1).sum()\n",
        "\n",
        "    # Calculate logprior\n",
        "    logprior = np.log(pos_num_docs/neg_num_docs)\n",
        "\n",
        "    # For each word in the vocabulary...\n",
        "    for word in vocab:\n",
        "        # get the positive and negative frequency of the word\n",
        "        freq_pos = find_occurrence(freqs, word , 0)\n",
        "        freq_neg = find_occurrence(freqs, word , 1)\n",
        "\n",
        "        # calculate the probability that each word is positive, and negative\n",
        "        p_w_pos = (freq_pos) / (num_pos)\n",
        "        p_w_neg = (freq_neg) / (num_neg)\n",
        "\n",
        "        # calculate the log likelihood of the word\n",
        "        loglikelihood[word] = np.log(p_w_pos/p_w_neg)\n",
        "\n",
        "\n",
        "    return logprior, loglikelihood"
      ],
      "metadata": {
        "id": "pbxD0KaARyq2"
      },
      "id": "pbxD0KaARyq2",
      "execution_count": 24,
      "outputs": []
    },
    {
      "cell_type": "code",
      "source": [
        "logprior, loglikelihood = train_naive_bayes_wls(freqs, X_train, y_train)\n",
        "print(logprior)\n",
        "print(len(loglikelihood))"
      ],
      "metadata": {
        "id": "Dcu2IBVUTsDe",
        "colab": {
          "base_uri": "https://localhost:8080/",
          "height": 322
        },
        "outputId": "f8d079ac-e684-451b-e38c-4292a19e6749"
      },
      "id": "Dcu2IBVUTsDe",
      "execution_count": 25,
      "outputs": [
        {
          "output_type": "error",
          "ename": "ZeroDivisionError",
          "evalue": "ignored",
          "traceback": [
            "\u001b[0;31m---------------------------------------------------------------------------\u001b[0m",
            "\u001b[0;31mZeroDivisionError\u001b[0m                         Traceback (most recent call last)",
            "\u001b[0;32m<ipython-input-25-93bcec16b62b>\u001b[0m in \u001b[0;36m<module>\u001b[0;34m\u001b[0m\n\u001b[0;32m----> 1\u001b[0;31m \u001b[0mlogprior\u001b[0m\u001b[0;34m,\u001b[0m \u001b[0mloglikelihood\u001b[0m \u001b[0;34m=\u001b[0m \u001b[0mtrain_naive_bayes_wls\u001b[0m\u001b[0;34m(\u001b[0m\u001b[0mfreqs\u001b[0m\u001b[0;34m,\u001b[0m \u001b[0mX_train\u001b[0m\u001b[0;34m,\u001b[0m \u001b[0my_train\u001b[0m\u001b[0;34m)\u001b[0m\u001b[0;34m\u001b[0m\u001b[0;34m\u001b[0m\u001b[0m\n\u001b[0m\u001b[1;32m      2\u001b[0m \u001b[0mprint\u001b[0m\u001b[0;34m(\u001b[0m\u001b[0mlogprior\u001b[0m\u001b[0;34m)\u001b[0m\u001b[0;34m\u001b[0m\u001b[0;34m\u001b[0m\u001b[0m\n\u001b[1;32m      3\u001b[0m \u001b[0mprint\u001b[0m\u001b[0;34m(\u001b[0m\u001b[0mlen\u001b[0m\u001b[0;34m(\u001b[0m\u001b[0mloglikelihood\u001b[0m\u001b[0;34m)\u001b[0m\u001b[0;34m)\u001b[0m\u001b[0;34m\u001b[0m\u001b[0;34m\u001b[0m\u001b[0m\n",
            "\u001b[0;32m<ipython-input-24-97f1e8162360>\u001b[0m in \u001b[0;36mtrain_naive_bayes_wls\u001b[0;34m(freqs, train_x, train_y)\u001b[0m\n\u001b[1;32m     55\u001b[0m \u001b[0;34m\u001b[0m\u001b[0m\n\u001b[1;32m     56\u001b[0m         \u001b[0;31m# calculate the log likelihood of the word\u001b[0m\u001b[0;34m\u001b[0m\u001b[0;34m\u001b[0m\u001b[0;34m\u001b[0m\u001b[0m\n\u001b[0;32m---> 57\u001b[0;31m         \u001b[0mloglikelihood\u001b[0m\u001b[0;34m[\u001b[0m\u001b[0mword\u001b[0m\u001b[0;34m]\u001b[0m \u001b[0;34m=\u001b[0m \u001b[0mnp\u001b[0m\u001b[0;34m.\u001b[0m\u001b[0mlog\u001b[0m\u001b[0;34m(\u001b[0m\u001b[0mp_w_pos\u001b[0m\u001b[0;34m/\u001b[0m\u001b[0mp_w_neg\u001b[0m\u001b[0;34m)\u001b[0m\u001b[0;34m\u001b[0m\u001b[0;34m\u001b[0m\u001b[0m\n\u001b[0m\u001b[1;32m     58\u001b[0m \u001b[0;34m\u001b[0m\u001b[0m\n\u001b[1;32m     59\u001b[0m \u001b[0;34m\u001b[0m\u001b[0m\n",
            "\u001b[0;31mZeroDivisionError\u001b[0m: float division by zero"
          ]
        }
      ]
    },
    {
      "cell_type": "markdown",
      "source": [
        "The model will raise an error if it encounters a word with zero probability during training or testing, because division by zero is undefined. Laplace smoothing must be employed to avoid this error."
      ],
      "metadata": {
        "id": "H7e-blsUfgOQ"
      },
      "id": "H7e-blsUfgOQ"
    },
    {
      "cell_type": "markdown",
      "source": [
        "# 9.2"
      ],
      "metadata": {
        "id": "edaLhmcyffQl"
      },
      "id": "edaLhmcyffQl"
    },
    {
      "cell_type": "markdown",
      "source": [
        "In the Naive Bayes algorithm, it is common to use logarithmic values instead of only probability values for several reasons:\n",
        "\n",
        "1. Computational efficiency: Probability values can become very small when\n",
        "multiplied many times, leading to floating-point underflow and resulting in loss of accuracy. On the other hand, logarithmic values remain relatively large even when multiplied many times. By converting the probability values to logarithmic values, the computations are made more stable and efficient.\n",
        "\n",
        "2. Better numerical stability: When working with probabilities, it's easy to end up with a zero probability for a given feature, which will cause the entire product to be zero. This can cause serious problems in the computation and can lead to errors. However, when using logarithmic values, logarithms of zero are undefined, but logarithms of small numbers are well defined. This makes the computations more stable and less prone to errors.\n",
        "\n",
        "3. Interpretability: Logarithmic values are easier to interpret than probability values. For example, the difference between two logarithmic values can be interpreted as the ratio of the corresponding probabilities.\n",
        "\n",
        "Overall, the use of logarithmic values in the Naive Bayes algorithm allows for more efficient, stable, and interpretable computations.\n",
        "\n",
        "\n",
        "\n",
        "\n"
      ],
      "metadata": {
        "id": "08HiiR5MfqSC"
      },
      "id": "08HiiR5MfqSC"
    }
  ],
  "metadata": {
    "kernelspec": {
      "display_name": "Python 3 (ipykernel)",
      "language": "python",
      "name": "python3"
    },
    "language_info": {
      "codemirror_mode": {
        "name": "ipython",
        "version": 3
      },
      "file_extension": ".py",
      "mimetype": "text/x-python",
      "name": "python",
      "nbconvert_exporter": "python",
      "pygments_lexer": "ipython3",
      "version": "3.9.5"
    },
    "colab": {
      "provenance": []
    },
    "gpuClass": "standard",
    "accelerator": "GPU"
  },
  "nbformat": 4,
  "nbformat_minor": 5
}